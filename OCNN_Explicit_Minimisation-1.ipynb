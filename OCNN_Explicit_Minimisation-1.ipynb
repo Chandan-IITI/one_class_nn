{
 "cells": [
  {
   "cell_type": "code",
   "execution_count": 1,
   "metadata": {
    "collapsed": false,
    "deletable": true,
    "editable": true
   },
   "outputs": [],
   "source": [
    "%matplotlib inline\n",
    "\n",
    "import numpy  as np\n",
    "import pandas as pd\n",
    "\n",
    "import matplotlib.pyplot as plt\n",
    "import seaborn as srn\n",
    "\n",
    "from data_fetch import prepare_usps_mlfetch"
   ]
  },
  {
   "cell_type": "code",
   "execution_count": 45,
   "metadata": {
    "collapsed": false,
    "deletable": true,
    "editable": true
   },
   "outputs": [
    {
     "name": "stdout",
     "output_type": "stream",
     "text": [
      "importing usps from pickle file .....\n"
     ]
    }
   ],
   "source": [
    "[Xtrue,Xlabels] = prepare_usps_mlfetch()\n",
    "\n",
    "data  = Xtrue\n",
    "label = Xlabels\n",
    "\n",
    "data_train    = data[0:220]\n",
    "data_test     = data[220:231]\n",
    "targets_train = label[0:220]\n",
    "targets_test  = label[220:231]\n",
    "\n",
    "# import tempfile\n",
    "# from sklearn.datasets.mldata import fetch_mldata\n",
    "# test_data_home = tempfile.mkdtemp()\n",
    "# usps = fetch_mldata('usps', data_home = test_data_home)"
   ]
  },
  {
   "cell_type": "markdown",
   "metadata": {
    "deletable": true,
    "editable": true
   },
   "source": [
    "## OC-SVM explicit"
   ]
  },
  {
   "cell_type": "markdown",
   "metadata": {},
   "source": [
    "Explicit objective and gradient for the OC-SVM, minimised with scipy."
   ]
  },
  {
   "cell_type": "code",
   "execution_count": 46,
   "metadata": {
    "collapsed": true
   },
   "outputs": [],
   "source": [
    "def relu(x):\n",
    "    y = x\n",
    "    y[y < 0] = 0\n",
    "    return y\n",
    "\n",
    "def dRelu(x):\n",
    "    y = x\n",
    "    y[x <= 0] = 0\n",
    "    y[x > 0]  = np.ones((len(x[x > 0]),))\n",
    "    return y"
   ]
  },
  {
   "cell_type": "code",
   "execution_count": 47,
   "metadata": {
    "collapsed": false,
    "deletable": true,
    "editable": true
   },
   "outputs": [],
   "source": [
    "def svmScore(X, w):\n",
    "    return X.dot(w)\n",
    "\n",
    "def ocsvm_obj(theta, X, nu, D):\n",
    "    \n",
    "    w = theta[:D]\n",
    "    r = theta[D:]\n",
    "    \n",
    "    term1 = 0.5 * np.sum(w**2)\n",
    "    term2 = 1/nu * np.mean(relu(r - svmScore(X, w)))\n",
    "    term3 = -r\n",
    "    \n",
    "    return term1 + term2 + term3\n",
    "\n",
    "def ocsvm_grad(theta, X, nu, D):\n",
    "    \n",
    "    w = theta[:D]\n",
    "    r = theta[D:]\n",
    "    \n",
    "    deriv = dRelu(r - svmScore(X, w))\n",
    "\n",
    "    term1 = np.append(w, 0)\n",
    "    term2 = np.append(1/nu * np.mean(deriv[:,np.newaxis] * (-X), axis = 0),\n",
    "                      1/nu * np.mean(deriv))\n",
    "    term3 = np.append(0*w, -1)\n",
    "\n",
    "    grad = term1 + term2 + term3\n",
    "    \n",
    "    return grad"
   ]
  },
  {
   "cell_type": "code",
   "execution_count": 48,
   "metadata": {
    "collapsed": false,
    "deletable": true,
    "editable": true
   },
   "outputs": [
    {
     "name": "stdout",
     "output_type": "stream",
     "text": [
      "Gradient error: 5.65966004199e-06\n"
     ]
    }
   ],
   "source": [
    "from scipy.optimize import minimize\n",
    "\n",
    "X  = data_train\n",
    "D  = X.shape[1]\n",
    "nu = 0.04\n",
    "\n",
    "np.random.seed(42)\n",
    "theta0 = np.random.normal(0, 1, D + 1)\n",
    "\n",
    "from scipy.optimize import check_grad\n",
    "print('Gradient error: %s' % check_grad(ocsvm_obj, ocsvm_grad, theta0, X, nu, D))\n",
    "\n",
    "res = minimize(ocsvm_obj, theta0, method = 'L-BFGS-B', jac = ocsvm_grad, args = (X, nu, D),\n",
    "               options = {'gtol': 1e-8, 'disp': True, 'maxiter' : 50000, 'maxfun' : 10000})"
   ]
  },
  {
   "cell_type": "code",
   "execution_count": 49,
   "metadata": {
    "collapsed": false,
    "deletable": true,
    "editable": true
   },
   "outputs": [
    {
     "data": {
      "image/png": "[encoded data removed]",
      "text/plain": [
       "<matplotlib.figure.Figure at 0x18d83f210>"
      ]
     },
     "metadata": {},
     "output_type": "display_data"
    }
   ],
   "source": [
    "plt.hist(svmScore(data[label == +1, :], res.x[0:-1]) - res.x[-1], bins = 25, label = 'Normal');\n",
    "plt.hist(svmScore(data[label == -1, :], res.x[0:-1]) - res.x[-1], bins = 25, label = 'Anomaly');\n",
    "plt.legend(loc = 'upper right');\n",
    "plt.title('OC-SVM Normalised Decision Score');"
   ]
  },
  {
   "cell_type": "markdown",
   "metadata": {},
   "source": [
    "## OC-SVM sklearn"
   ]
  },
  {
   "cell_type": "markdown",
   "metadata": {},
   "source": [
    "Comparison to sklearn implementation of OC-SVM."
   ]
  },
  {
   "cell_type": "code",
   "execution_count": 50,
   "metadata": {
    "collapsed": true
   },
   "outputs": [],
   "source": [
    "from sklearn import svm\n",
    "\n",
    "nu = 0.04\n",
    "ocSVM = svm.OneClassSVM(nu = nu, kernel = 'linear')\n",
    "ocSVM.fit(data_train) \n",
    "\n",
    "decisionScore = ocSVM.decision_function(data)"
   ]
  },
  {
   "cell_type": "code",
   "execution_count": 51,
   "metadata": {
    "collapsed": false
   },
   "outputs": [
    {
     "data": {
      "image/png": "[encoded data removed]",
      "text/plain": [
       "<matplotlib.figure.Figure at 0x18d83ec10>"
      ]
     },
     "metadata": {},
     "output_type": "display_data"
    }
   ],
   "source": [
    "plt.hist(decisionScore[label == +1], bins = 25, label = 'Normal');\n",
    "plt.hist(decisionScore[label == -1], bins = 25, label = 'Anomaly');\n",
    "plt.legend(loc = 'upper right');\n",
    "plt.title('OC-SVM Normalised Decision Score');"
   ]
  },
  {
   "cell_type": "markdown",
   "metadata": {
    "deletable": true,
    "editable": true
   },
   "source": [
    "## OC-NN explicit"
   ]
  },
  {
   "cell_type": "markdown",
   "metadata": {
    "deletable": true,
    "editable": true
   },
   "source": [
    "Define the OC-NN objective function as per the notes. It accepts the activation g(.) as an argument as well."
   ]
  },
  {
   "cell_type": "code",
   "execution_count": 52,
   "metadata": {
    "collapsed": true,
    "deletable": true,
    "editable": true
   },
   "outputs": [],
   "source": [
    "def nnScore(X, w, V, g):\n",
    "    return g(X.dot(V)).dot(w)\n",
    "\n",
    "def ocnn_obj(theta, X, nu, D, K, g, dG):\n",
    "    \n",
    "    w = theta[:K]\n",
    "    V = theta[K:K+K*D].reshape((D, K))\n",
    "    r = theta[K+K*D:]\n",
    "    \n",
    "    term1 = 0.5  * np.sum(w**2)\n",
    "    term2 = 0.5  * np.sum(V**2)\n",
    "    term3 = 1/nu * np.mean(relu(r - nnScore(X, w, V, g)))\n",
    "    term4 = -r\n",
    "    \n",
    "    return term1 + term2 + term3 + term4\n",
    "\n",
    "def ocnn_grad(theta, X, nu, D, K, g, dG):\n",
    "    \n",
    "    N = X.shape[0]\n",
    "    w = theta[:K]\n",
    "    V = theta[K:K+K*D].reshape((D, K))\n",
    "    r = theta[K+K*D:]\n",
    "    \n",
    "    deriv = dRelu(r - nnScore(X, w, V, g))    \n",
    "\n",
    "    term1 = np.concatenate(( w,\n",
    "                             np.zeros((V.size,)),\n",
    "                             np.zeros((1,)) ))\n",
    "\n",
    "    term2 = np.concatenate(( np.zeros((w.size,)),\n",
    "                             V.flatten(),\n",
    "                             np.zeros((1,)) ))\n",
    "\n",
    "    term3 = np.concatenate(( 1/nu * np.mean(deriv[:,np.newaxis] * (-g(X.dot(V))), axis = 0),\n",
    "                             1/nu * np.mean((deriv[:,np.newaxis] * (dG(X.dot(V)) * -w)).reshape((N, 1, K)) * X.reshape((N, D, 1)), axis = 0).flatten(),\n",
    "                             1/nu * np.array([ np.mean(deriv) ]) ))\n",
    "    \n",
    "    term4 = np.concatenate(( np.zeros((w.size,)),\n",
    "                             np.zeros((V.size,)),\n",
    "                             -1 * np.ones((1,)) ))\n",
    "    \n",
    "    return term1 + term2 + term3 + term4"
   ]
  },
  {
   "cell_type": "markdown",
   "metadata": {},
   "source": [
    "### Linear activation"
   ]
  },
  {
   "cell_type": "markdown",
   "metadata": {
    "deletable": true,
    "editable": true
   },
   "source": [
    "Minimise objective explicitly for some small number of hidden units."
   ]
  },
  {
   "cell_type": "code",
   "execution_count": 53,
   "metadata": {
    "collapsed": false,
    "deletable": true,
    "editable": true
   },
   "outputs": [
    {
     "name": "stdout",
     "output_type": "stream",
     "text": [
      "Gradient error: 0.00032003848362\n"
     ]
    }
   ],
   "source": [
    "from scipy.optimize import minimize\n",
    "\n",
    "X  = data_train\n",
    "D  = X.shape[1]\n",
    "K  = 4\n",
    "nu = 0.04\n",
    "\n",
    "g  = lambda x : x\n",
    "dG = lambda x : np.ones(x.shape)\n",
    "\n",
    "np.random.seed(42)\n",
    "theta0 = np.random.normal(0, 1, K + K*D + 1)\n",
    "\n",
    "from scipy.optimize import check_grad\n",
    "print('Gradient error: %s' % check_grad(ocnn_obj, ocnn_grad, theta0, X, nu, D, K, g, dG))\n",
    "\n",
    "res = minimize(ocnn_obj, theta0, method = 'L-BFGS-B', jac = ocnn_grad, args = (X, nu, D, K, g, dG),\n",
    "               options = {'gtol': 1e-8, 'disp': True, 'maxiter' : 50000, 'maxfun' : 10000})"
   ]
  },
  {
   "cell_type": "code",
   "execution_count": 54,
   "metadata": {
    "collapsed": false,
    "deletable": true,
    "editable": true
   },
   "outputs": [],
   "source": [
    "thetaStar = res.x\n",
    "\n",
    "wStar = thetaStar[:K]\n",
    "VStar = thetaStar[K:K+K*D].reshape((D, K))\n",
    "rStar = thetaStar[K+K*D:]"
   ]
  },
  {
   "cell_type": "code",
   "execution_count": 55,
   "metadata": {
    "collapsed": false,
    "deletable": true,
    "editable": true
   },
   "outputs": [],
   "source": [
    "# print('rStar vs percentile:')\n",
    "# print((rStar[0], np.percentile(nnScore(data_train, wStar, VStar, g), q = 100 * nu)))"
   ]
  },
  {
   "cell_type": "code",
   "execution_count": 56,
   "metadata": {
    "collapsed": false,
    "deletable": true,
    "editable": true
   },
   "outputs": [
    {
     "data": {
      "image/png": "[encoded data removed]",
      "text/plain": [
       "<matplotlib.figure.Figure at 0x14513f7d0>"
      ]
     },
     "metadata": {},
     "output_type": "display_data"
    }
   ],
   "source": [
    "plt.hist(nnScore(data[label == +1], wStar, VStar, g) - rStar, bins = 25, label = 'Normal');\n",
    "plt.hist(nnScore(data[label == -1], wStar, VStar, g) - rStar, bins = 25, label = 'Anomaly');\n",
    "plt.legend(loc = 'upper right');\n",
    "plt.title('OC-NN [Linear] Normalised Decision Score');"
   ]
  },
  {
   "cell_type": "markdown",
   "metadata": {
    "collapsed": true,
    "deletable": true,
    "editable": true
   },
   "source": [
    "### Sigmoid activation"
   ]
  },
  {
   "cell_type": "code",
   "execution_count": 57,
   "metadata": {
    "collapsed": false,
    "deletable": true,
    "editable": true
   },
   "outputs": [
    {
     "name": "stdout",
     "output_type": "stream",
     "text": [
      "Gradient error: 8.33498126439e-05\n"
     ]
    }
   ],
   "source": [
    "from scipy.optimize import minimize\n",
    "\n",
    "X  = data_train\n",
    "D  = X.shape[1]\n",
    "K  = 4\n",
    "nu = 0.04\n",
    "\n",
    "g   = lambda x : 1/(1 + np.exp(-x))\n",
    "dG  = lambda x : 1/(1 + np.exp(-x)) * 1/(1 + np.exp(+x))\n",
    "\n",
    "np.random.seed(42)\n",
    "theta0 = np.random.normal(0, 1, K + K*D + 1)\n",
    "\n",
    "from scipy.optimize import check_grad\n",
    "print('Gradient error: %s' % check_grad(ocnn_obj, ocnn_grad, theta0, X, nu, D, K, g, dG))\n",
    "\n",
    "res = minimize(ocnn_obj, theta0, method = 'L-BFGS-B', jac = ocnn_grad, args = (X, nu, D, K, g, dG),\n",
    "               options = {'gtol': 1e-8, 'disp': True, 'maxiter' : 50000, 'maxfun' : 10000})"
   ]
  },
  {
   "cell_type": "code",
   "execution_count": 58,
   "metadata": {
    "collapsed": false,
    "deletable": true,
    "editable": true
   },
   "outputs": [],
   "source": [
    "# thetaStar = res.x\n",
    "\n",
    "# wStar = thetaStar[:K]\n",
    "# VStar = thetaStar[K:K+K*D].reshape((D, K))\n",
    "# rStar = thetaStar[K+K*D:]"
   ]
  },
  {
   "cell_type": "code",
   "execution_count": 59,
   "metadata": {
    "collapsed": true
   },
   "outputs": [],
   "source": [
    "thetaStar = theta0\n",
    "\n",
    "wStar = thetaStar[:K]\n",
    "VStar = thetaStar[K:K+K*D].reshape((D, K))\n",
    "rStar = thetaStar[K+K*D:]"
   ]
  },
  {
   "cell_type": "code",
   "execution_count": 62,
   "metadata": {
    "collapsed": false
   },
   "outputs": [
    {
     "name": "stdout",
     "output_type": "stream",
     "text": [
      "[ 0.49671415 -0.1382643   0.64768854  1.52302986]\n",
      "[[-0.23415337 -0.23413696  1.57921282  0.76743473]\n",
      " [-0.46947439  0.54256004 -0.46341769 -0.46572975]\n",
      " [ 0.24196227 -1.91328024 -1.72491783 -0.56228753]\n",
      " ..., \n",
      " [-0.651418   -0.48388583 -0.32034731  0.42416595]\n",
      " [ 0.52283549 -0.5737     -0.02435459  2.14227036]\n",
      " [ 1.72754317  0.43632367  0.03800348  0.12003133]]\n"
     ]
    }
   ],
   "source": [
    "print wStar\n",
    "print VStar"
   ]
  },
  {
   "cell_type": "code",
   "execution_count": 60,
   "metadata": {
    "collapsed": false,
    "deletable": true,
    "editable": true
   },
   "outputs": [],
   "source": [
    "# print('rStar vs percentile:')\n",
    "# print((rStar[0], np.percentile(nnScore(data_train, wStar, VStar, g), q = 100 * nu)))"
   ]
  },
  {
   "cell_type": "code",
   "execution_count": 61,
   "metadata": {
    "collapsed": false,
    "deletable": true,
    "editable": true
   },
   "outputs": [
    {
     "data": {
      "image/png": "[encoded data removed]",
      "text/plain": [
       "<matplotlib.figure.Figure at 0x18e07f910>"
      ]
     },
     "metadata": {},
     "output_type": "display_data"
    }
   ],
   "source": [
    "plt.hist(nnScore(data[label == +1], wStar, VStar, g) - rStar, bins = 25, label = 'Normal');\n",
    "plt.hist(nnScore(data[label == -1], wStar, VStar, g) - rStar, bins = 25, label = 'Anomaly');\n",
    "plt.legend(loc = 'upper right');\n",
    "plt.title('OC-NN [Sigmoid] Normalised Decision Score');"
   ]
  },
  {
   "cell_type": "markdown",
   "metadata": {
    "collapsed": true
   },
   "source": [
    "### Tflearn based Code for OC-NN "
   ]
  },
  {
   "cell_type": "code",
   "execution_count": 2,
   "metadata": {
    "collapsed": false
   },
   "outputs": [
    {
     "name": "stdout",
     "output_type": "stream",
     "text": [
      "Training Step: 599  | total loss: \u001b[1m\u001b[32m0.00174\u001b[0m\u001b[0m | time: 0.007s\n",
      "| SGD | epoch: 200 | loss: 0.00174 - binary_acc: 1.0000 -- iter: 200/220\n",
      "Training Step: 600  | total loss: \u001b[1m\u001b[32m0.00174\u001b[0m\u001b[0m | time: 0.011s\n",
      "| SGD | epoch: 200 | loss: 0.00174 - binary_acc: 1.0000 -- iter: 220/220\n",
      "--\n",
      "Hideen [[ -4.98954214e-05  -8.29289183e-06   7.45984507e-05  -4.29097927e-05]\n",
      " [ -6.73346076e-05   4.92666259e-05  -7.67769961e-05  -1.34297370e-04]\n",
      " [ -1.46113698e-05  -1.32730900e-04  -1.70264364e-04  -1.41452882e-04]\n",
      " ..., \n",
      " [ -8.07425531e-05  -2.68223666e-05  -6.60758014e-05  -6.81170422e-05]\n",
      " [  6.25834582e-06  -3.34725264e-05  -4.41674347e-05   5.91446769e-05]\n",
      " [  9.55018913e-05   4.13881899e-05  -3.95919451e-05  -9.08271250e-05]]\n",
      "[[ 1.31013346]\n",
      " [ 1.30986619]\n",
      " [ 1.31075859]\n",
      " [ 1.30934143]]\n"
     ]
    },
    {
     "data": {
      "image/png": "[encoded data removed]",
      "text/plain": [
       "<matplotlib.figure.Figure at 0x1069b9710>"
      ]
     },
     "metadata": {},
     "output_type": "display_data"
    }
   ],
   "source": [
    "from tflearn import DNN\n",
    "from tflearn.layers.core import input_data, dropout, fully_connected\n",
    "from tflearn.layers.estimator import regression, oneClassNN\n",
    "import tensorflow as tf\n",
    "import tflearn\n",
    "import numpy as np\n",
    "import tflearn.variables as va\n",
    "import numpy  as np\n",
    "import pandas as pd\n",
    "\n",
    "import matplotlib.pyplot as plt\n",
    "import seaborn as srn\n",
    "\n",
    "from data_fetch import prepare_usps_mlfetch\n",
    "\n",
    "[Xtrue,Xlabels] = prepare_usps_mlfetch()\n",
    "\n",
    "data  = Xtrue\n",
    "label = Xlabels\n",
    "data_train    = data[0:220]\n",
    "data_test     = data[220:231]\n",
    "targets_train = label[0:220]\n",
    "targets_test  = label[220:231]\n",
    "# Clear all the graph variables created in previous run and start fresh\n",
    "# tf.reset_default_graph()\n",
    "\n",
    "## Set up the data for running the algorithm\n",
    "data_train = data[0:220]\n",
    "target = Xlabels\n",
    "X = data_train\n",
    "Y = targets_train\n",
    "Y = Y.tolist()\n",
    "Y = [[i] for i in Y]\n",
    "\n",
    "# For testing the algorithm\n",
    "X_test = data_test\n",
    "Y_test = targets_test\n",
    "Y_test = Y_test.tolist()\n",
    "Y_test = [[i] for i in Y_test]\n",
    "\n",
    "No_of_inputNodes = X.shape[1]\n",
    "K = 4\n",
    "nu = 0.04\n",
    "D = X.shape[1]\n",
    "\n",
    "# Define the network\n",
    "input_layer = input_data(shape=[None, No_of_inputNodes])  # input layer of size\n",
    "\n",
    "np.random.seed(42)\n",
    "theta0 = np.random.normal(0, 1, K + K*D + 1) *0.0001\n",
    "#theta0 = np.random.normal(0, 1, K + K*D + 1) # For linear\n",
    "hidden_layer = fully_connected(input_layer, 4, bias=False, activation='sigmoid', name=\"hiddenLayer_Weights\",\n",
    "                               weights_init=\"normal\")  # hidden layer of size 2\n",
    "\n",
    "\n",
    "output_layer = fully_connected(hidden_layer, 1, bias=False, activation='linear', name=\"outputLayer_Weights\",\n",
    "                               weights_init=\"normal\")  # output layer of size 1\n",
    "\n",
    "\n",
    "\n",
    "# Hyper parameters for the one class Neural Network\n",
    "v = 0.04\n",
    "nu = 0.04\n",
    "\n",
    "# Initialize rho\n",
    "value = 0.01\n",
    "init = tf.constant_initializer(value)\n",
    "rho = va.variable(name='rho', dtype=tf.float32, shape=[], initializer=init)\n",
    "\n",
    "rcomputed = []\n",
    "auc = []\n",
    "\n",
    "\n",
    "sess = tf.Session()\n",
    "sess.run(tf.initialize_all_variables())\n",
    "print sess.run(tflearn.get_training_mode()) #False\n",
    "tflearn.is_training(True, session=sess)\n",
    "print sess.run(tflearn.get_training_mode())  #now True\n",
    "\n",
    "X  = data_train\n",
    "D  = X.shape[1]\n",
    "nu = 0.04\n",
    "\n",
    "\n",
    "\n",
    "\n",
    "# temp = np.random.normal(0, 1, K + K*D + 1)[-1]\n",
    "\n",
    "temp = theta0[-1]\n",
    "\n",
    "# temp = tflearn.variables.get_value(rho, session=sess)\n",
    "\n",
    "oneClassNN = oneClassNN(output_layer, v, rho, hidden_layer, output_layer, optimizer='sgd',\n",
    "                        loss='OneClassNN_Loss',\n",
    "                            learning_rate=1)\n",
    "\n",
    "model = DNN(oneClassNN, tensorboard_verbose=3)\n",
    "\n",
    "model.set_weights(output_layer.W, theta0[0:K][:,np.newaxis])\n",
    "model.set_weights(hidden_layer.W, np.reshape(theta0[K:K +K*D],(D,K)))\n",
    "\n",
    "\n",
    "iterStep = 0\n",
    "while (iterStep < 100):\n",
    "    print \"Running Iteration :\", iterStep\n",
    "    # Call the cost function\n",
    "    y_pred = model.predict(data_train)  # Apply some ops\n",
    "    tflearn.is_training(False, session=sess)\n",
    "    y_pred_test = model.predict(data_test)  # Apply some ops\n",
    "    tflearn.is_training(True, session=sess)\n",
    "    value = np.percentile(y_pred, v * 100)\n",
    "    tflearn.variables.set_value(rho, value,session=sess)\n",
    "    rStar = rho\n",
    "    model.fit(X, Y, n_epoch=2, show_metric=True, batch_size=100)\n",
    "    iterStep = iterStep + 1\n",
    "    rcomputed.append(rho)\n",
    "    temp = tflearn.variables.get_value(rho, session=sess)\n",
    "\n",
    "    # print \"Rho\",temp\n",
    "    # print \"y_pred\",y_pred\n",
    "    # print \"y_predTest\", y_pred_test\n",
    "\n",
    "# g = lambda x: x\n",
    "g   = lambda x : 1/(1 + tf.exp(-x))\n",
    "\n",
    "def nnScore(X, w, V, g):\n",
    "    return tf.matmul(g((tf.matmul(X, w))), V)\n",
    "\n",
    "\n",
    "# Format the datatype to suite the computation of nnscore\n",
    "X = X.astype(np.float32)\n",
    "X_test = data_test\n",
    "X_test = X_test.astype(np.float32)\n",
    "# assign the learnt weights\n",
    "# wStar = hidden_layer.W\n",
    "# VStar = output_layer.W\n",
    "# Get weights values of fc2\n",
    "wStar = model.get_weights(hidden_layer.W)\n",
    "VStar = model.get_weights(output_layer.W)\n",
    "\n",
    "print \"Hideen\",wStar\n",
    "print VStar\n",
    "\n",
    "train = nnScore(X, wStar, VStar, g)\n",
    "test = nnScore(X_test, wStar, VStar, g)\n",
    "\n",
    "# Access the value inside the train and test for plotting\n",
    "# Create a new session and run the example\n",
    "# sess = tf.Session()\n",
    "# sess.run(tf.initialize_all_variables())\n",
    "arrayTrain = train.eval(session=sess)\n",
    "arrayTest = test.eval(session=sess)\n",
    "\n",
    "# print \"Train Array:\",arrayTrain\n",
    "# print \"Test Array:\",arrayTest\n",
    "\n",
    "plt.hist(arrayTrain-temp,  bins = 25,label='Normal');\n",
    "plt.hist(arrayTest-temp, bins = 25, label='Anomalies');\n",
    "plt.legend(loc='upper right')\n",
    "plt.title('r = %1.6f- Sigmoid Activation ' % temp)\n",
    "plt.show()\n"
   ]
  },
  {
   "cell_type": "code",
   "execution_count": null,
   "metadata": {
    "collapsed": true
   },
   "outputs": [],
   "source": []
  }
 ],
 "metadata": {
  "kernelspec": {
   "display_name": "Python 2",
   "language": "python",
   "name": "python2"
  },
  "language_info": {
   "codemirror_mode": {
    "name": "ipython",
    "version": 2
   },
   "file_extension": ".py",
   "mimetype": "text/x-python",
   "name": "python",
   "nbconvert_exporter": "python",
   "pygments_lexer": "ipython2",
   "version": "2.7.12"
  }
 },
 "nbformat": 4,
 "nbformat_minor": 0
}
