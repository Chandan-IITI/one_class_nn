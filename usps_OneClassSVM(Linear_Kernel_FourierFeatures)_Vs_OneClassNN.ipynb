{
 "cells": [
  {
   "cell_type": "code",
   "execution_count": 1,
   "metadata": {
    "collapsed": false
   },
   "outputs": [
    {
     "name": "stdout",
     "output_type": "stream",
     "text": [
      "importing usps from pickle file .....\n"
     ]
    }
   ],
   "source": [
    "%matplotlib inline\n",
    "from data_fetch import prepare_usps_mlfetch\n",
    "[Xtrue,Xlabels] = prepare_usps_mlfetch()\n",
    "data = Xtrue"
   ]
  },
  {
   "cell_type": "code",
   "execution_count": 2,
   "metadata": {
    "collapsed": false
   },
   "outputs": [
    {
     "data": {
      "image/png": "[encoded data removed]",
      "text/plain": [
       "<matplotlib.figure.Figure at 0x105a55c90>"
      ]
     },
     "metadata": {
      "image/png": {
       "height": 265,
       "width": 380
      }
     },
     "output_type": "display_data"
    }
   ],
   "source": [
    "%config InlineBackend.figure_format = 'retina'\n",
    "# let's take a look at the types of labels  are present in the data.\n",
    "# The ones correspond to label 1 and 7's(outliers) correspond to label -1\n",
    "#data.label.value_counts().plot(kind='bar')  \n",
    "type(Xlabels)\n",
    "import matplotlib.pyplot as plt\n",
    "plt.hist(Xlabels,bins=5)\n",
    "plt.title(\"Count of Normal and Anomalous datapoints in training set\")\n",
    "plt.show()"
   ]
  },
  {
   "cell_type": "markdown",
   "metadata": {},
   "source": [
    "##### MAKING OUR DATA ONE-CLASS\n",
    "\n",
    "Later we're going to use scikit-learn's OneClassSVM predict function to generate output. This returns +1 or -1 to indicate whether the data is an \"inlier\" or \"outlier\" respectively. To make comparison easier later we'll replace our data's label with a matching +1 or -1 value. This also transforms our data from multi-class (multiple different labels) to one-class (boolean label), which is a prerequisite for using a one-class SVM\n",
    "\n",
    "\n"
   ]
  },
  {
   "cell_type": "code",
   "execution_count": 3,
   "metadata": {
    "collapsed": false
   },
   "outputs": [
    {
     "name": "stdout",
     "output_type": "stream",
     "text": [
      "('outliers.shape', (11,))\n",
      "('outlier fraction', 0.047619047619047616)\n",
      "Training data shape... (231, 256)\n"
     ]
    }
   ],
   "source": [
    "\n",
    "# series, not a new dataframe\n",
    "target = Xlabels\n",
    "# find the proportion of outliers we expect (aka where `labels == -1`). because \n",
    "# target is a series, we just compare against itself rather than a column.\n",
    "outliers = target[target == -1]  \n",
    "print(\"outliers.shape\", outliers.shape)  \n",
    "print(\"outlier fraction\", float(outliers.shape[0])/target.shape[0])\n",
    "\n",
    "# Print the shape of the input data for sanity\n",
    "print \"Training data shape...\",data.shape\n",
    "# temp =  data[0:180]\n",
    "# print temp.shape\n",
    "# print data[1]\n",
    "# data = data[0:220]\n",
    "# target = target[0:220]"
   ]
  },
  {
   "cell_type": "markdown",
   "metadata": {},
   "source": [
    "#### SPLITTING DATA INTO TRAINING AND TEST SETS\n",
    "\n"
   ]
  },
  {
   "cell_type": "code",
   "execution_count": 4,
   "metadata": {
    "collapsed": false
   },
   "outputs": [],
   "source": [
    "# from sklearn.cross_validation import train_test_split\n",
    "# train_data, test_data, train_target, test_target = train_test_split(data, target, train_size = 0.8)  \n",
    "# train_data.shape  \n",
    "\n",
    "\n",
    "# # We learn the digits on the first half of the digits\n",
    "# data_train, targets_train = train_data,train_target\n",
    "\n",
    "# # Now predict the value of the digit on the second half:\n",
    "# data_test, targets_test = test_data,test_target\n",
    "\n",
    "data_train = data[0:220]\n",
    "targets_train = target[0:220]\n",
    "data_test = data[220:231]\n",
    "targets_test = target[220:231]"
   ]
  },
  {
   "cell_type": "markdown",
   "metadata": {},
   "source": [
    "### TRAINING THE MODELS: OneClass SVM"
   ]
  },
  {
   "cell_type": "code",
   "execution_count": 5,
   "metadata": {
    "collapsed": false
   },
   "outputs": [
    {
     "name": "stdout",
     "output_type": "stream",
     "text": [
      "('nu', 0.047619047619047616)\n",
      "One Class SVM output: for negative values are\n",
      "[-1. -1. -1. -1. -1. -1. -1. -1. -1. -1. -1.]\n",
      "Decision Scores:\n",
      "[[-0.03541369]\n",
      " [-0.06034371]\n",
      " [-0.01954997]\n",
      " [-0.02484581]\n",
      " [-0.04203471]\n",
      " [-0.02694775]\n",
      " [-0.03010954]\n",
      " [-0.02936722]\n",
      " [-0.03767665]\n",
      " [-0.03544812]\n",
      " [-0.04920528]]\n"
     ]
    }
   ],
   "source": [
    "\n",
    "from sklearn import svm\n",
    "\n",
    "# set nu (which should be the proportion of outliers in our dataset)\n",
    "nu = float(outliers.shape[0]) / target.shape[0]  \n",
    "print(\"nu\", nu)\n",
    "import matplotlib.pyplot as plt\n",
    "import numpy as np\n",
    "from time import time\n",
    "\n",
    "# Import datasets, classifiers and performance metrics\n",
    "from sklearn import datasets, svm, pipeline\n",
    "from sklearn.kernel_approximation import (RBFSampler,\n",
    "                                          Nystroem)\n",
    "from sklearn.decomposition import PCA\n",
    "from sklearn import metrics \n",
    "\n",
    "# Create a classifier: a support vector classifier\n",
    "kernel_svm = svm.SVC(gamma=.2)\n",
    "linear_svm = svm.LinearSVC()\n",
    "oneClass_svm = svm.OneClassSVM(nu=nu, kernel='rbf', gamma=0.00005)\n",
    "oneClass_svm_time = time()\n",
    "oneClass_svm.fit(data_train) \n",
    "preds = oneClass_svm.predict(data_test)  \n",
    "decisionScore= oneClass_svm.decision_function(data_test)\n",
    "print \"One Class SVM output: for negative values are\"\n",
    "print preds\n",
    "print \"Decision Scores:\"\n",
    "print decisionScore"
   ]
  },
  {
   "cell_type": "markdown",
   "metadata": {
    "collapsed": false
   },
   "source": [
    "### Single Hidden Layer : One ClassNeural Network"
   ]
  },
  {
   "cell_type": "code",
   "execution_count": 34,
   "metadata": {
    "collapsed": false
   },
   "outputs": [
    {
     "name": "stdout",
     "output_type": "stream",
     "text": [
      "Training Step: 799  | total loss: \u001b[1m\u001b[32m0.00006\u001b[0m\u001b[0m | time: 0.008s\n",
      "| SGD | epoch: 200 | loss: 0.00006 - binary_acc: 1.0000 -- iter: 192/220\n",
      "Training Step: 800  | total loss: \u001b[1m\u001b[32m0.00006\u001b[0m\u001b[0m | time: 0.010s\n",
      "| SGD | epoch: 200 | loss: 0.00006 - binary_acc: 1.0000 -- iter: 220/220\n",
      "--\n"
     ]
    },
    {
     "data": {
      "image/png": "[encoded data removed]",
      "text/plain": [
       "<matplotlib.figure.Figure at 0x12ba71890>"
      ]
     },
     "metadata": {
      "image/png": {
       "height": 280,
       "width": 401
      }
     },
     "output_type": "display_data"
    },
    {
     "data": {
      "image/png": "[encoded data removed]",
      "text/plain": [
       "<matplotlib.figure.Figure at 0x12f1a4ad0>"
      ]
     },
     "metadata": {
      "image/png": {
       "height": 280,
       "width": 414
      }
     },
     "output_type": "display_data"
    },
    {
     "data": {
      "image/png": "[encoded data removed]",
      "text/plain": [
       "<matplotlib.figure.Figure at 0x1161a2510>"
      ]
     },
     "metadata": {
      "image/png": {
       "height": 265,
       "width": 386
      }
     },
     "output_type": "display_data"
    }
   ],
   "source": [
    "from tflearn import DNN\n",
    "from tflearn.layers.core import input_data, dropout, fully_connected\n",
    "from tflearn.layers.estimator import regression,oneClassNN\n",
    "from tflearn.metrics import binary_accuracy_op\n",
    "from time import time\n",
    "from sklearn import metrics \n",
    "import tensorflow as tf\n",
    "\n",
    "# Clear all the graph variables created in previous run and start fresh\n",
    "tf.reset_default_graph()\n",
    "init = tf.global_variables_initializer()\n",
    "#Training examples\n",
    "X = data_train\n",
    "# Y = [[0], [0], [0], [0]]\n",
    "Y = targets_train\n",
    "# Y = list(Y)\n",
    "Y = Y.tolist()\n",
    "Y= [[i] for i in Y]\n",
    "\n",
    "# For testing the algorithm\n",
    "X_test = data_test\n",
    "Y_test = targets_test\n",
    "Y_test= Y_test.tolist()\n",
    "Y_test= [[i] for i in Y_test]\n",
    "\n",
    "m,n = data_train.shape\n",
    "No_of_inputNodes = n\n",
    "No_of_hiddenNodes=n\n",
    "print \"No_of_hiddenNodes\",No_of_hiddenNodes\n",
    "\n",
    "# [4,16,64,256]= Linear\n",
    "# iterations=1\n",
    "# v= [0.01, 0.04]\n",
    "\n",
    "# [4,16,64,256]= Sigmoid\n",
    "# iterations=3\n",
    "# v= [0.01, 0.04]\n",
    "\n",
    "# Histogram of train, test\n",
    "# AUC: computation test;\n",
    "\n",
    "\n",
    "\n",
    "input_layer = input_data(shape=[None, No_of_inputNodes]) #input layer of size 2\n",
    "hidden_layer = fully_connected(input_layer ,4,bias=False, activation='sigmoid',name=\"hiddenLayer_Weights\") #hidden layer of size 2\n",
    "output_layer = fully_connected(hidden_layer, 1, bias=False,activation='linear',name=\"outputLayer_Weights\") #output layer of size 1\n",
    "\n",
    "# Hyper parameters for the one class Neural Network\n",
    "v = 0.04\n",
    "import tflearn.variables as va\n",
    "value = 0.5\n",
    "init = tf.constant_initializer(value)\n",
    "rho = va.variable(name='rho', dtype=tf.float32,shape=[],initializer=init)\n",
    "# rho_previous = va.variable(name='rho_previous',dtype=tf.float32,shape=[] )\n",
    "# rho_next = va.variable(name='rho_next', dtype=tf.float32,shape=[])\n",
    "rcomputed=[]\n",
    "auc = []\n",
    "#rho=0.3\n",
    "oneClassNN = oneClassNN(output_layer,v,rho,hidden_layer,output_layer,optimizer='sgd', loss='OneClassNN_Loss', learning_rate=5)\n",
    "model = DNN(oneClassNN,tensorboard_verbose=3)\n",
    "model.fit(X, Y, n_epoch=200, show_metric=True)\n",
    "y_pred = model.predict(data_train) # Apply some ops\n",
    "rho= np.percentile(y_pred,v*100)\n",
    "rcomputed.append(rho)\n",
    "# # Define the Iteration for optimising and stabilizing the value of r\n",
    "iterStep = 0\n",
    "\n",
    "while (iterStep < 0):\n",
    "    print \"Running Iteration :\",iterStep\n",
    "    y_pred = model.predict(data_train) # Apply some ops\n",
    "#     y_pred = np.sort(y_pred) # Sort in ascending order\n",
    "#     rhoIndex = int(v * len(data_train))\n",
    "#   rho=(y_pred[rhoIndex] + y_pred[rhoIndex+1])/2\n",
    "    rho= np.percentile(y_pred,v*100)\n",
    "#     rho_next =rho \n",
    "    model.fit(X, Y, n_epoch=200, show_metric=True)\n",
    "    iterStep = iterStep + 1\n",
    "    rcomputed.append(rho)\n",
    "    print \"rho\", rho\n",
    "\n",
    "\n",
    "#The data_train and data_test \n",
    "data_train = data[0:220]\n",
    "y_predTrain = model.predict(data_train) # Apply some ops\n",
    "\n",
    "data_test = data[220:231]\n",
    "y_predTest = model.predict(data_test)\n",
    "\n",
    "\n",
    "## PLot the AUC for the data\n",
    "from sklearn.cross_validation import train_test_split\n",
    "train_data, test_data, train_target, test_target = train_test_split(data, target, train_size = 0.8)  \n",
    "preds = model.predict(test_data)\n",
    "targs = test_target\n",
    "\n",
    "oneClass_nn_score = metrics.accuracy_score(targs, preds.round())  \n",
    "# Compute the AUC for OneClassNN\n",
    "fpr, tpr, thresholds = metrics.roc_curve(targs, preds)\n",
    "OCNN_auc_score = metrics.auc(fpr, tpr)\n",
    "auc.append(OCNN_auc_score)\n",
    "\n",
    "# print \"Value of R computed is... \",rcomputed\n",
    "# Make a figure\n",
    "fig1 = plt.figure()\n",
    "\n",
    "plt.hist(y_predTrain,  alpha=0.5, label='normal')\n",
    "plt.hist(y_predTest,  alpha=0.5, label='anomalies')\n",
    "plt.legend(loc='upper right')\n",
    "plt.xlabel(\"Samples\")\n",
    "plt.ylabel(\"Y_hat(Predicted Value)\")\n",
    "plt.title(\"OneClass-NN(Output=Y_hat) Vs Samples\")\n",
    "plt.show()\n",
    "\n",
    "# Plot lines 1-3\n",
    "fig2 = plt.figure()\n",
    "line1 = plt.plot(y_predTrain-rcomputed[0],'bo-',label='Normal')\n",
    "line2 = plt.plot(y_predTest-rcomputed[0],'go-',label='Anomalies')\n",
    "plt.title(\"Anomaly-Score(Yhat-r)\")\n",
    "plt.xlabel(\"Samples\")\n",
    "plt.ylabel(\"Score\")\n",
    "plt.legend(loc='lower right')\n",
    "# Display the figure\n",
    "plt.show()\n",
    "\n",
    "# AUC Score computed for the data points\n",
    "fig3 = plt.figure()\n",
    "line1 = plt.plot(auc,'ro-',label='OneClass-NN')\n",
    "plt.title(\"AUC Curve\")\n",
    "# Display the figure\n",
    "plt.show()\n",
    "\n"
   ]
  },
  {
   "cell_type": "code",
   "execution_count": null,
   "metadata": {
    "collapsed": false
   },
   "outputs": [],
   "source": []
  },
  {
   "cell_type": "code",
   "execution_count": null,
   "metadata": {
    "collapsed": true
   },
   "outputs": [],
   "source": []
  },
  {
   "cell_type": "code",
   "execution_count": null,
   "metadata": {
    "collapsed": false
   },
   "outputs": [],
   "source": [
    "\n",
    "\n",
    "# # y_pred = model.predict(data_test)\n",
    "# oneClass_nn_time = time() \n",
    "# preds = model.predict(X_test)\n",
    "# targs = targets_test\n",
    "\n",
    "# oneClass_nn_score = metrics.accuracy_score(targs, preds.round())  \n",
    "# # Compute the AUC for OneClassNN\n",
    "# fpr, tpr, thresholds = metrics.roc_curve(targs, preds)\n",
    "# oneClass_nn_auc_score = metrics.auc(fpr, tpr)\n",
    "# # oneClass_nn_score = metrics.accuracy_score(targs, np.ones((len(targs),)))  \n",
    "# oneClass_nn_time = time() - oneClass_nn_time\n",
    "# print \"OneClassNN- Classifier Accuracy\",oneClass_nn_score,oneClass_nn_time\n",
    "# print \"OneClassNN- Classifier AUC:\",oneClass_nn_auc_score,oneClass_nn_time"
   ]
  },
  {
   "cell_type": "markdown",
   "metadata": {},
   "source": [
    "### TRAINING THE MODELS: OneClass SVM, LINEAR KERNEL with Random Fourier Features, RBF kernel"
   ]
  },
  {
   "cell_type": "code",
   "execution_count": null,
   "metadata": {
    "collapsed": false
   },
   "outputs": [],
   "source": [
    "from sklearn import svm\n",
    "\n",
    "# set nu (which should be the proportion of outliers in our dataset)\n",
    "nu = float(outliers.shape[0]) / target.shape[0]  \n",
    "print(\"nu\", nu)\n",
    "import matplotlib.pyplot as plt\n",
    "import numpy as np\n",
    "from time import time\n",
    "\n",
    "# Import datasets, classifiers and performance metrics\n",
    "from sklearn import datasets, svm, pipeline\n",
    "from sklearn.kernel_approximation import (RBFSampler,\n",
    "                                          Nystroem)\n",
    "from sklearn.decomposition import PCA\n",
    "from sklearn import metrics \n",
    "\n",
    "# Create a classifier: a support vector classifier\n",
    "kernel_svm = svm.SVC(gamma=.2)\n",
    "linear_svm = svm.LinearSVC()\n",
    "oneClass_svm = svm.OneClassSVM(nu=nu, kernel='rbf', gamma=0.00005)  \n",
    "# oneClass_svm = svm.OneClassSVM(nu=nu, kernel='linear', gamma=0.00005)\n",
    "# create pipeline from kernel approximation\n",
    "# and linear svm\n",
    "feature_map_fourier = RBFSampler(gamma=.2, random_state=1)\n",
    "fourier_approx_svm = pipeline.Pipeline([(\"feature_map\", feature_map_fourier),\n",
    "                                        (\"svm\", svm.LinearSVC())])\n",
    "\n",
    "OneClass_svm_Linear_fourier = pipeline.Pipeline([(\"feature_map\", feature_map_fourier),\n",
    "                                          (\"svm\", svm.OneClassSVM(nu=nu, kernel='linear', gamma=0.00005))])\n",
    "\n",
    "# fit and predict using linear and kernel svm:\n",
    "\n",
    "kernel_svm_time = time()\n",
    "kernel_svm.fit(data_train, targets_train)\n",
    "\n",
    "kernel_svm_score = kernel_svm.score(data_test, targets_test)\n",
    "kernel_svm_time = time() - kernel_svm_time\n",
    "\n",
    "## Compute AUC for the Linear SVM classifier performance\n",
    "preds = kernel_svm.predict(data_test)  \n",
    "targs = targets_test\n",
    "fpr, tpr, thresholds = metrics.roc_curve(targs, preds)\n",
    "kernel_svm_auc_score = metrics.auc(fpr, tpr)\n",
    "kernel_svm_time = time() - kernel_svm_time\n",
    "print \"kernel_svm Classifier AUC:\",kernel_svm_auc_score,kernel_svm_time\n",
    "\n",
    "print \"Kernel SVM-Targets and predicted..\"\n",
    "print targs\n",
    "print preds\n",
    "\n",
    "linear_svm_time = time()\n",
    "linear_svm.fit(data_train, targets_train)\n",
    "linear_svm_score = linear_svm.score(data_test, targets_test)\n",
    "preds = linear_svm.predict(data_train)  \n",
    "targs = targets_train\n",
    "\n",
    "## Compute AUC for the Linear SVM classifier performance\n",
    "preds = linear_svm.predict(data_train)  \n",
    "targs = targets_train\n",
    "fpr, tpr, thresholds = metrics.roc_curve(targs, preds)\n",
    "linear_svm_auc_score = metrics.auc(fpr, tpr)\n",
    "linear_svm_time = time() - linear_svm_time\n",
    "# print \"linear_svm Classifier AUC:\",linear_svm_auc_score,linear_svm_time\n",
    "\n",
    "\n",
    "oneClass_svm_time = time()\n",
    "oneClass_svm.fit(data_train) \n",
    "preds = oneClass_svm.predict(data_test)  \n",
    "targs = targets_test\n",
    "oneClass_svm_score = metrics.accuracy_score(targs, preds)  \n",
    "oneClass_svm_time = time() - oneClass_svm_time\n",
    "\n",
    "print \"oneClass_svm and predicted..\"\n",
    "print targs\n",
    "print preds\n",
    "\n",
    "# Compute the AUC for oneClass_svm\n",
    "fpr, tpr, thresholds = metrics.roc_curve(targs, preds)\n",
    "oneClass_svm_auc_score = metrics.auc(fpr, tpr)\n",
    "print \"oneClass_svm Classifier AUC:\",oneClass_svm_auc_score,oneClass_svm_time\n",
    "\n",
    "## Use Sampling for RFF method \n",
    "sample_sizes = 30 * np.arange(1, 10)\n",
    "fourier_scores = []\n",
    "fourier_times = []\n",
    "fourier_auc_scores= []\n",
    "\n",
    "for D in sample_sizes:\n",
    "    fourier_approx_svm.set_params(feature_map__n_components=D)\n",
    "    start = time()\n",
    "    fourier_approx_svm.fit(data_train, targets_train)\n",
    "    fourier_times.append(time() - start)\n",
    "\n",
    "    fourier_score = fourier_approx_svm.score(data_test, targets_test)\n",
    "    fourier_scores.append(fourier_score)\n",
    "    \n",
    "    ## Compute AUC for the FF  classifier performance\n",
    "    preds = fourier_approx_svm.predict(data_test)  \n",
    "    targs = targets_test\n",
    "    fpr, tpr, thresholds = metrics.roc_curve(targs, preds)\n",
    "    fourier_approx_auc_score = metrics.auc(fpr, tpr)\n",
    "    fourier_auc_scores.append(fourier_approx_auc_score)\n",
    "#     print \"fourier_approx_svm Classifier AUC:\",fourier_approx_auc_score,fourier_times\n",
    "\n",
    "\n",
    "## Use Sampling for OneClassSVM + Linear Kerner+ fouriier features method \n",
    "sample_sizes = 30 * np.arange(1, 10)\n",
    "OneClass_svm_Linear_fourtier_scores = []\n",
    "OneClass_svm_Linear_fourtier_times = []\n",
    "OneClass_svm_Linear_fourtier_auc_scores= []\n",
    "\n",
    "for D in sample_sizes:\n",
    "    OneClass_svm_Linear_fourier.set_params(feature_map__n_components=D)\n",
    "    start = time()\n",
    "    OneClass_svm_Linear_fourier.fit(data_train)\n",
    "    OneClass_svm_Linear_fourtier_times.append(time() - start)\n",
    "    preds = OneClass_svm_Linear_fourier.predict(data_test)  \n",
    "    targs = targets_test\n",
    "    \n",
    "    OneClass_svm_Linear_fourtier_score = metrics.accuracy_score(targs, preds)  \n",
    "    OneClass_svm_Linear_fourtier_scores.append(OneClass_svm_Linear_fourtier_score)\n",
    "    \n",
    "    ## Compute AUC for the FF  classifier performance\n",
    "#     preds = OneClass_svm_Linear_fourier.predict(data_train)  \n",
    "#     targs = targets_train\n",
    "    fpr, tpr, thresholds = metrics.roc_curve(targs, preds)\n",
    "    OneClass_svm_Linear_fourtier_auc_score = metrics.auc(fpr, tpr)\n",
    "    OneClass_svm_Linear_fourtier_auc_scores.append(OneClass_svm_Linear_fourtier_auc_score)\n",
    "#     print \"fourier_approx_svm Classifier AUC:\",fourier_approx_auc_score,fourier_times\n",
    "\n",
    "print \"OneClass_svm_Linear_fourier and predicted...\"\n",
    "print targs\n",
    "print preds"
   ]
  },
  {
   "cell_type": "code",
   "execution_count": null,
   "metadata": {
    "collapsed": false
   },
   "outputs": [],
   "source": [
    "# from data_fetch import prepare_usps_mlfetch\n",
    "# [Xtrue,Xlabels] = prepare_usps_mlfetch()\n",
    "# data = Xtrue\n",
    "# target = Xlabels\n",
    "# from sklearn.cross_validation import train_test_split\n",
    "# train_data, test_data, train_target, test_target = train_test_split(data, target, train_size = 0.8)\n",
    "# train_data.shape\n",
    "\n",
    "\n",
    "# # We learn the digits on the first half of the digits\n",
    "# data_train, targets_train = train_data,train_target\n",
    "# # Now predict the value of the digit on the second half:\n",
    "# data_test, targets_test = test_data,test_target\n",
    "\n",
    "\n"
   ]
  },
  {
   "cell_type": "markdown",
   "metadata": {},
   "source": [
    "### Test the Model Trained"
   ]
  },
  {
   "cell_type": "code",
   "execution_count": null,
   "metadata": {
    "collapsed": false
   },
   "outputs": [],
   "source": [
    "# import tflearn\n",
    "# var= tflearn.variables.get_all_trainable_variable()\n",
    "# print type(var)\n",
    "# for v in var:\n",
    "#     print v\n",
    "print preds.shape"
   ]
  },
  {
   "cell_type": "markdown",
   "metadata": {},
   "source": [
    "### Plotting the Accuracy "
   ]
  },
  {
   "cell_type": "code",
   "execution_count": null,
   "metadata": {
    "collapsed": false
   },
   "outputs": [],
   "source": [
    "print fourier_auc_scores\n",
    "print OneClass_svm_Linear_fourtier_auc_scores"
   ]
  },
  {
   "cell_type": "code",
   "execution_count": null,
   "metadata": {
    "collapsed": false
   },
   "outputs": [],
   "source": [
    "%config InlineBackend.figure_format = 'retina'\n",
    "plt.figure(figsize=(8, 8))\n",
    "# accuracy = plt.subplot(111)\n",
    "# second y axis for timeings\n",
    "# timescale = plt.subplot(111)\n",
    "\n",
    "# print \"OneClassNN\",oneClass_nn_score,oneClass_nn_time\n",
    "# print\"oneClass_svm_score\", oneClass_svm_score,oneClass_svm_time\n",
    "# print\"linear_svm_score\", linear_svm_score,linear_svm_time\n",
    "# print \"kernel_svm_score\", kernel_svm_score,kernel_svm_time\n",
    "# print \"fourier_scores\", np.mean(fourier_scores),np.mean(fourier_times)\n",
    "\n",
    "import pandas as pd\n",
    "import numpy as np\n",
    "import matplotlib.pyplot as plt\n",
    "from sklearn.metrics import average_precision_score\n",
    "from sklearn.metrics import roc_auc_score\n",
    "\n",
    "# basepath = \"/Users/raghav/Documents/Uni/ECML_2017/experiments/cifar_10/\"\n",
    "mse = np.zeros((1,5))\n",
    "\n",
    "# mse[:,0] = np.asarray(oneClass_svm_score)\n",
    "mse[:,0] = np.asarray(np.mean(OneClass_svm_Linear_fourtier_scores))\n",
    "mse[:,1] = np.asarray(oneClass_svm_score)\n",
    "\n",
    "\n",
    "\n",
    "mse[:,2] = np.asarray(kernel_svm_score)\n",
    "mse[:,3] = np.asarray(np.mean(fourier_scores))\n",
    "mse[:,4] = np.asarray(oneClass_nn_score)\n",
    "\n",
    "df = pd.DataFrame(mse, columns=['OC-SVM-LFF', 'OC-SVM-RBF','RBF-SVM', 'RFF-SVM','OneClass-NN'])\n",
    "df.plot.box()\n",
    "plt.title('Classifier Performance',fontsize=12,fontweight=\"bold\")\n",
    "plt.ylabel(\" Accuracy\",fontsize=12,fontweight=\"bold\")\n",
    "plt.xticks(rotation=45)\n"
   ]
  },
  {
   "cell_type": "markdown",
   "metadata": {},
   "source": [
    "### Plot the AUC Acore for various methods"
   ]
  },
  {
   "cell_type": "code",
   "execution_count": null,
   "metadata": {
    "collapsed": false
   },
   "outputs": [],
   "source": [
    "%config InlineBackend.figure_format = 'retina'\n",
    "plt.figure(figsize=(8, 8))\n",
    "# accuracy = plt.subplot(111)\n",
    "# second y axis for timeings\n",
    "# timescale = plt.subplot(111)\n",
    "\n",
    "# print \"OneClassNN\",oneClass_nn_score,oneClass_nn_time\n",
    "# print\"oneClass_svm_score\", oneClass_svm_score,oneClass_svm_time\n",
    "# print\"linear_svm_score\", linear_svm_score,linear_svm_time\n",
    "# print \"kernel_svm_score\", kernel_svm_score,kernel_svm_time\n",
    "# print \"fourier_scores\", np.mean(fourier_scores),np.mean(fourier_times)\n",
    "\n",
    "import pandas as pd\n",
    "import numpy as np\n",
    "import matplotlib.pyplot as plt\n",
    "from sklearn.metrics import average_precision_score\n",
    "from sklearn.metrics import roc_auc_score\n",
    "\n",
    "# basepath = \"/Users/raghav/Documents/Uni/ECML_2017/experiments/cifar_10/\"\n",
    "mse = np.zeros((1,5))\n",
    "\n",
    "# mse[:,0] = np.asarray(oneClass_svm_auc_score)\n",
    "\n",
    "mse[:,0] = np.asarray(np.mean(OneClass_svm_Linear_fourtier_auc_scores))\n",
    "mse[:,1] = np.asarray(oneClass_svm_auc_score)\n",
    "mse[:,2] = np.asarray(kernel_svm_auc_score)\n",
    "mse[:,3] = np.asarray(np.mean(fourier_auc_scores))\n",
    "mse[:,4] = np.asarray(oneClass_nn_auc_score)\n",
    "\n",
    "df = pd.DataFrame(mse, columns=['OC-SVM-LFF', 'OC-SVM-RBF','RBF-SVM', 'RFF-SVM','OneClass-NN'])\n",
    "df.plot.box()\n",
    "plt.title('Classifier AUC Performance',fontsize=12,fontweight=\"bold\")\n",
    "plt.ylabel(\" AUC\",fontsize=12,fontweight=\"bold\")\n",
    "plt.xticks(rotation=45)\n"
   ]
  },
  {
   "cell_type": "code",
   "execution_count": null,
   "metadata": {
    "collapsed": false
   },
   "outputs": [],
   "source": [
    "# print \" Predictions of One Class NN\"\n",
    "# # print Y_test\n",
    "# # print preds\n",
    "\n",
    "\n",
    "xtestDF_OC_RBF = oneClass_svm.decision_function(X_test)\n",
    "xtestDF_OC_LFF = OneClass_svm_Linear_fourier.decision_function(X_test)\n",
    "\n",
    "print \" One Class SVM - Decision Functions\"\n",
    "print xtestDF_OC_RBF\n",
    "print Y_test\n",
    "print \" ##############################################\"\n",
    "print xtestDF_OC_LFF\n",
    "print Y_test\n",
    "## But how can we know the decision function for Neural Networks"
   ]
  },
  {
   "cell_type": "markdown",
   "metadata": {
    "collapsed": true
   },
   "source": [
    "### PLotting the decision functions"
   ]
  },
  {
   "cell_type": "code",
   "execution_count": null,
   "metadata": {
    "collapsed": false
   },
   "outputs": [],
   "source": [
    "# import numpy as np\n",
    "# import matplotlib.pyplot as plt\n",
    "# import matplotlib.font_manager\n",
    "# from sklearn import svm\n",
    "\n",
    "# nx, ny = (len(data), 256)\n",
    "# x = np.linspace(-1, 1, nx)\n",
    "# y = np.linspace(-1, 1, ny)\n",
    "# xx, yy =  np.meshgrid(x, y)\n",
    "\n",
    "# # xx, yy = np.meshgrid(np.linspace(-1, 1, 231), np.linspace(-1, 1, 231))\n",
    "# ### Synthetic Data\n",
    "# # # Generate train data\n",
    "# # X = 0.3 * np.random.randn(100, 2)\n",
    "# # X_train = np.r_[X + 2, X - 2]\n",
    "# # # Generate some regular novel observations\n",
    "# # X = 0.3 * np.random.randn(20, 2)\n",
    "# # X_test = np.r_[X + 2, X - 2]\n",
    "# # # Generate some abnormal novel observations\n",
    "# # X_outliers = np.random.uniform(low=-4, high=4, size=(20, 2))\n",
    "\n",
    "# ## USPS Data\n",
    "# X_train = data[0:180]\n",
    "# X_test = data[181:219]\n",
    "# X_outliers = data[220:231]\n",
    "\n",
    "\n",
    "# # fit the model\n",
    "# clf = svm.OneClassSVM(nu=0.1, kernel=\"rbf\", gamma=0.1)\n",
    "# clf.fit(X_train)\n",
    "# y_pred_train = clf.predict(X_train)\n",
    "# y_pred_test = clf.predict(X_test)\n",
    "# y_pred_outliers = clf.predict(X_outliers)\n",
    "# n_error_train = y_pred_train[y_pred_train == -1].size\n",
    "# n_error_test = y_pred_test[y_pred_test == -1].size\n",
    "# n_error_outliers = y_pred_outliers[y_pred_outliers == 1].size\n",
    "\n",
    "# # plot the line, the points, and the nearest vectors to the plane\n",
    "# Z = clf.decision_function(np.c_[xx.ravel(), yy.ravel()])\n",
    "# Z = Z.reshape(xx.shape)\n",
    "\n",
    "# plt.title(\"Novelty Detection\")\n",
    "# plt.contourf(xx, yy, Z, levels=np.linspace(Z.min(), 0, 7), cmap=plt.cm.Blues_r)\n",
    "# a = plt.contour(xx, yy, Z, levels=[0], linewidths=2, colors='red')\n",
    "# plt.contourf(xx, yy, Z, levels=[0, Z.max()], colors='orange')\n",
    "\n",
    "# b1 = plt.scatter(X_train[:, 0], X_train[:, 1], c='white')\n",
    "# b2 = plt.scatter(X_test[:, 0], X_test[:, 1], c='green')\n",
    "# c = plt.scatter(X_outliers[:, 0], X_outliers[:, 1], c='red')\n",
    "# plt.axis('tight')\n",
    "# plt.xlim((-1, 1))\n",
    "# plt.ylim((-1, 1))\n",
    "# plt.legend([a.collections[0], b1, b2, c],\n",
    "#            [\"learned frontier\", \"training observations\",\n",
    "#             \"new regular observations\", \"new abnormal observations\"],\n",
    "#            loc=\"upper left\",\n",
    "#            prop=matplotlib.font_manager.FontProperties(size=11))\n",
    "# plt.xlabel(\n",
    "#     \"error train: %d/200 ; errors novel regular: %d/40 ; \"\n",
    "#     \"errors novel abnormal: %d/40\"\n",
    "#     % (n_error_train, n_error_test, n_error_outliers))\n",
    "# plt.show()\n"
   ]
  },
  {
   "cell_type": "code",
   "execution_count": null,
   "metadata": {
    "collapsed": true
   },
   "outputs": [],
   "source": []
  }
 ],
 "metadata": {
  "kernelspec": {
   "display_name": "Python 2",
   "language": "python",
   "name": "python2"
  },
  "language_info": {
   "codemirror_mode": {
    "name": "ipython",
    "version": 2
   },
   "file_extension": ".py",
   "mimetype": "text/x-python",
   "name": "python",
   "nbconvert_exporter": "python",
   "pygments_lexer": "ipython2",
   "version": "2.7.12"
  }
 },
 "nbformat": 4,
 "nbformat_minor": 0
}
