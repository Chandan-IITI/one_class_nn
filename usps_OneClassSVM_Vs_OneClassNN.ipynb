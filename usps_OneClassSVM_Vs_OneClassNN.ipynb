{
 "cells": [
  {
   "cell_type": "code",
   "execution_count": 6,
   "metadata": {
    "collapsed": false
   },
   "outputs": [
    {
     "name": "stdout",
     "output_type": "stream",
     "text": [
      "importing usps from pickle file .....\n"
     ]
    }
   ],
   "source": [
    "%matplotlib inline\n",
    "from data_fetch import prepare_usps_mlfetch\n",
    "[Xtrue,Xlabels] = prepare_usps_mlfetch()\n",
    "data = Xtrue"
   ]
  },
  {
   "cell_type": "code",
   "execution_count": 7,
   "metadata": {
    "collapsed": false
   },
   "outputs": [
    {
     "data": {
      "image/png": "[encoded data removed]",
      "text/plain": [
       "<matplotlib.figure.Figure at 0x11c7a5910>"
      ]
     },
     "metadata": {
      "image/png": {
       "height": 265,
       "width": 380
      }
     },
     "output_type": "display_data"
    }
   ],
   "source": [
    "%config InlineBackend.figure_format = 'retina'\n",
    "# let's take a look at the types of labels  are present in the data.\n",
    "# The ones correspond to label 1 and 7's(outliers) correspond to label -1\n",
    "#data.label.value_counts().plot(kind='bar')  \n",
    "type(Xlabels)\n",
    "import matplotlib.pyplot as plt\n",
    "plt.hist(Xlabels,bins=5)\n",
    "plt.title(\"Count of Normal and Anomalous datapoints in training set\")\n",
    "plt.show()"
   ]
  },
  {
   "cell_type": "markdown",
   "metadata": {},
   "source": [
    "##### MAKING OUR DATA ONE-CLASS\n",
    "\n",
    "Later we're going to use scikit-learn's OneClassSVM predict function to generate output. This returns +1 or -1 to indicate whether the data is an \"inlier\" or \"outlier\" respectively. To make comparison easier later we'll replace our data's label with a matching +1 or -1 value. This also transforms our data from multi-class (multiple different labels) to one-class (boolean label), which is a prerequisite for using a one-class SVM\n",
    "\n",
    "\n"
   ]
  },
  {
   "cell_type": "code",
   "execution_count": 8,
   "metadata": {
    "collapsed": false
   },
   "outputs": [
    {
     "name": "stdout",
     "output_type": "stream",
     "text": [
      "('outliers.shape', (11,))\n",
      "('outlier fraction', 0.047619047619047616)\n",
      "Training data shape... (231, 256)\n"
     ]
    }
   ],
   "source": [
    "\n",
    "# series, not a new dataframe\n",
    "target = Xlabels\n",
    "# find the proportion of outliers we expect (aka where `labels == -1`). because \n",
    "# target is a series, we just compare against itself rather than a column.\n",
    "outliers = target[target == -1]  \n",
    "print(\"outliers.shape\", outliers.shape)  \n",
    "print(\"outlier fraction\", float(outliers.shape[0])/target.shape[0])\n",
    "\n",
    "# Print the shape of the input data for sanity\n",
    "print \"Training data shape...\",data.shape\n",
    " "
   ]
  },
  {
   "cell_type": "markdown",
   "metadata": {},
   "source": [
    "#### SPLITTING DATA INTO TRAINING AND TEST SETS\n",
    "\n"
   ]
  },
  {
   "cell_type": "code",
   "execution_count": 9,
   "metadata": {
    "collapsed": false
   },
   "outputs": [],
   "source": [
    "from sklearn.cross_validation import train_test_split\n",
    "train_data, test_data, train_target, test_target = train_test_split(data, target, train_size = 0.8)  \n",
    "train_data.shape  \n",
    "\n",
    "\n",
    "# We learn the digits on the first half of the digits\n",
    "data_train, targets_train = train_data,train_target\n",
    "\n",
    "# Now predict the value of the digit on the second half:\n",
    "data_test, targets_test = test_data,test_target\n",
    "\n"
   ]
  },
  {
   "cell_type": "markdown",
   "metadata": {},
   "source": [
    "### TRAINING THE MODELS: OneClass SVM, LINEAR KERNEL with Random Fourier Features, RBF kernel\n",
    "\n"
   ]
  },
  {
   "cell_type": "code",
   "execution_count": 10,
   "metadata": {
    "collapsed": false
   },
   "outputs": [
    {
     "name": "stdout",
     "output_type": "stream",
     "text": [
      "('nu', 0.047619047619047616)\n"
     ]
    }
   ],
   "source": [
    "from sklearn import svm\n",
    "\n",
    "# set nu (which should be the proportion of outliers in our dataset)\n",
    "nu = float(outliers.shape[0]) / target.shape[0]  \n",
    "print(\"nu\", nu)\n",
    "import matplotlib.pyplot as plt\n",
    "import numpy as np\n",
    "from time import time\n",
    "\n",
    "# Import datasets, classifiers and performance metrics\n",
    "from sklearn import datasets, svm, pipeline\n",
    "from sklearn.kernel_approximation import (RBFSampler,\n",
    "                                          Nystroem)\n",
    "from sklearn.decomposition import PCA\n",
    "from sklearn import metrics \n",
    "\n",
    "# Create a classifier: a support vector classifier\n",
    "kernel_svm = svm.SVC(gamma=.2)\n",
    "linear_svm = svm.LinearSVC()\n",
    "oneClass_svm = svm.OneClassSVM(nu=nu, kernel='rbf', gamma=0.00005)  \n",
    "\n",
    "# create pipeline from kernel approximation\n",
    "# and linear svm\n",
    "feature_map_fourier = RBFSampler(gamma=.2, random_state=1)\n",
    "fourier_approx_svm = pipeline.Pipeline([(\"feature_map\", feature_map_fourier),\n",
    "                                        (\"svm\", svm.LinearSVC())])\n",
    "\n",
    "\n",
    "\n",
    "# fit and predict using linear and kernel svm:\n",
    "\n",
    "kernel_svm_time = time()\n",
    "kernel_svm.fit(data_train, targets_train)\n",
    "kernel_svm_score = kernel_svm.score(data_test, targets_test)\n",
    "kernel_svm_time = time() - kernel_svm_time\n",
    "\n",
    "linear_svm_time = time()\n",
    "linear_svm.fit(data_train, targets_train)\n",
    "linear_svm_score = linear_svm.score(data_test, targets_test)\n",
    "linear_svm_time = time() - linear_svm_time\n",
    "\n",
    "oneClass_svm_time = time()\n",
    "oneClass_svm.fit(data_train, targets_train) \n",
    "preds = oneClass_svm.predict(data_train)  \n",
    "targs = targets_train\n",
    "oneClass_svm_score = metrics.accuracy_score(targs, preds)  \n",
    "oneClass_svm_time = time() - oneClass_svm_time\n",
    "\n",
    "sample_sizes = 30 * np.arange(1, 10)\n",
    "fourier_scores = []\n",
    "fourier_times = []\n",
    "\n",
    "\n",
    "for D in sample_sizes:\n",
    "    fourier_approx_svm.set_params(feature_map__n_components=D)\n",
    "    start = time()\n",
    "    fourier_approx_svm.fit(data_train, targets_train)\n",
    "    fourier_times.append(time() - start)\n",
    "\n",
    "    fourier_score = fourier_approx_svm.score(data_test, targets_test)\n",
    "    fourier_scores.append(fourier_score)\n"
   ]
  },
  {
   "cell_type": "code",
   "execution_count": 11,
   "metadata": {
    "collapsed": false
   },
   "outputs": [
    {
     "name": "stdout",
     "output_type": "stream",
     "text": [
      "importing usps from pickle file .....\n"
     ]
    }
   ],
   "source": [
    "from data_fetch import prepare_usps_mlfetch\n",
    "[Xtrue,Xlabels] = prepare_usps_mlfetch()\n",
    "data = Xtrue\n",
    "target = Xlabels\n",
    "from sklearn.cross_validation import train_test_split\n",
    "train_data, test_data, train_target, test_target = train_test_split(data, target, train_size = 0.8)\n",
    "train_data.shape\n",
    "\n",
    "\n",
    "# We learn the digits on the first half of the digits\n",
    "data_train, targets_train = train_data,train_target\n",
    "# Now predict the value of the digit on the second half:\n",
    "data_test, targets_test = test_data,test_target\n",
    "\n",
    "\n"
   ]
  },
  {
   "cell_type": "markdown",
   "metadata": {
    "collapsed": false
   },
   "source": [
    "### Single Hidden Layer : One ClassNeural Network"
   ]
  },
  {
   "cell_type": "code",
   "execution_count": 12,
   "metadata": {
    "collapsed": false
   },
   "outputs": [
    {
     "name": "stdout",
     "output_type": "stream",
     "text": [
      "Training Step: 149  | total loss: \u001b[1m\u001b[32m-0.63914\u001b[0m\u001b[0m | time: 0.005s\n",
      "| SGD | epoch: 050 | loss: -0.63914 - binary_acc: 0.9447 -- iter: 128/184\n",
      "Training Step: 150  | total loss: \u001b[1m\u001b[32m-0.64024\u001b[0m\u001b[0m | time: 0.007s\n",
      "| SGD | epoch: 050 | loss: -0.64024 - binary_acc: 0.9440 -- iter: 184/184\n",
      "--\n"
     ]
    }
   ],
   "source": [
    "from tflearn import DNN\n",
    "from tflearn.layers.core import input_data, dropout, fully_connected\n",
    "from tflearn.layers.estimator import regression,oneClassNN\n",
    "from tflearn.metrics import binary_accuracy_op\n",
    "from time import time\n",
    "from sklearn import metrics \n",
    "\n",
    "#Training examples\n",
    "X = data_train\n",
    "# Y = [[0], [0], [0], [0]]\n",
    "Y = targets_train\n",
    "# Y = list(Y)\n",
    "Y = Y.tolist()\n",
    "Y= [[i] for i in Y]\n",
    "\n",
    "# For testing the algorithm\n",
    "X_test = data_test\n",
    "Y_test = targets_test\n",
    "Y_test= Y_test.tolist()\n",
    "Y_test= [[i] for i in Y_test]\n",
    "\n",
    "m,n = data_train.shape\n",
    "No_of_inputNodes = n\n",
    "No_of_hiddenNodes=n\n",
    "print \"No_of_hiddenNodes\",No_of_hiddenNodes\n",
    "\n",
    "input_layer = input_data(shape=[None, No_of_inputNodes]) #input layer of size 2\n",
    "hidden_layer = fully_connected(input_layer , No_of_hiddenNodes, activation='tanh') #hidden layer of size 2\n",
    "output_layer = fully_connected(hidden_layer, 1, activation='tanh') #output layer of size 1\n",
    "\n",
    "# Hyper parameters for the one class Neural Network\n",
    "v = 0.4\n",
    "rho=0.3\n",
    "\n",
    "#use Stohastic Gradient Descent and Binary Crossentropy as loss function\n",
    "oneClassNN = oneClassNN(output_layer,v,rho,hidden_layer,output_layer,optimizer='sgd', loss='OneClassNN_Loss', learning_rate=5)\n",
    "\n",
    "model = DNN(oneClassNN)\n",
    "\n",
    "#fit the model\n",
    "model.fit(X, Y, n_epoch=50, show_metric=True);\n",
    "\n",
    "\n",
    "\n"
   ]
  },
  {
   "cell_type": "markdown",
   "metadata": {},
   "source": [
    "### Test the Model Trained"
   ]
  },
  {
   "cell_type": "code",
   "execution_count": 15,
   "metadata": {
    "collapsed": false
   },
   "outputs": [
    {
     "name": "stdout",
     "output_type": "stream",
     "text": [
      "OneClassNN- Classifier Accuracy 0.978723404255 0.00126504898071\n"
     ]
    }
   ],
   "source": [
    "y_pred = model.predict(X_test) # Apply some ops\n",
    "\n",
    "oneClass_nn_time = time() \n",
    "preds = model.predict(X_test)\n",
    "targs = Y_test\n",
    "oneClass_nn_score = metrics.accuracy_score(targs, preds.round())  \n",
    "oneClass_nn_time = time() - oneClass_nn_time\n",
    "print \"OneClassNN- Classifier Accuracy\",oneClass_nn_score,oneClass_nn_time"
   ]
  },
  {
   "cell_type": "markdown",
   "metadata": {},
   "source": [
    "### Plotting the Accuracy "
   ]
  },
  {
   "cell_type": "code",
   "execution_count": 18,
   "metadata": {
    "collapsed": false
   },
   "outputs": [
    {
     "data": {
      "text/plain": [
       "<matplotlib.text.Text at 0x1167c6a90>"
      ]
     },
     "execution_count": 18,
     "metadata": {},
     "output_type": "execute_result"
    },
    {
     "data": {
      "text/plain": [
       "<matplotlib.figure.Figure at 0x11e2ac650>"
      ]
     },
     "metadata": {},
     "output_type": "display_data"
    },
    {
     "data": {
      "image/png": "[encoded data removed]",
      "text/plain": [
       "<matplotlib.figure.Figure at 0x119c582d0>"
      ]
     },
     "metadata": {
      "image/png": {
       "height": 265,
       "width": 392
      }
     },
     "output_type": "display_data"
    }
   ],
   "source": [
    "%config InlineBackend.figure_format = 'retina'\n",
    "plt.figure(figsize=(8, 8))\n",
    "# accuracy = plt.subplot(111)\n",
    "# second y axis for timeings\n",
    "# timescale = plt.subplot(111)\n",
    "\n",
    "# print \"OneClassNN\",oneClass_nn_score,oneClass_nn_time\n",
    "# print\"oneClass_svm_score\", oneClass_svm_score,oneClass_svm_time\n",
    "# print\"linear_svm_score\", linear_svm_score,linear_svm_time\n",
    "# print \"kernel_svm_score\", kernel_svm_score,kernel_svm_time\n",
    "# print \"fourier_scores\", np.mean(fourier_scores),np.mean(fourier_times)\n",
    "\n",
    "import pandas as pd\n",
    "import numpy as np\n",
    "import matplotlib.pyplot as plt\n",
    "from sklearn.metrics import average_precision_score\n",
    "from sklearn.metrics import roc_auc_score\n",
    "\n",
    "# basepath = \"/Users/raghav/Documents/Uni/ECML_2017/experiments/cifar_10/\"\n",
    "mse = np.zeros((1,4))\n",
    "\n",
    "mse[:,0] = np.asarray(oneClass_svm_score)\n",
    "\n",
    "# mse[:,1] = np.asarray(linear_svm_score)\n",
    "\n",
    "mse[:,1] = np.asarray(kernel_svm_score)\n",
    "mse[:,2] = np.asarray(np.mean(fourier_scores))\n",
    "mse[:,3] = np.asarray(oneClass_nn_score)\n",
    "\n",
    "df = pd.DataFrame(mse, columns=['OneClass-SVM', 'RBF-SVM', 'RFF-SVM','OneClass-NN'])\n",
    "df.plot.box()\n",
    "plt.title('Classifier Performance',fontsize=12,fontweight=\"bold\")\n",
    "plt.ylabel(\" Accuracy\",fontsize=12,fontweight=\"bold\")\n"
   ]
  },
  {
   "cell_type": "code",
   "execution_count": null,
   "metadata": {
    "collapsed": true
   },
   "outputs": [],
   "source": []
  }
 ],
 "metadata": {
  "kernelspec": {
   "display_name": "Python 2",
   "language": "python",
   "name": "python2"
  },
  "language_info": {
   "codemirror_mode": {
    "name": "ipython",
    "version": 2
   },
   "file_extension": ".py",
   "mimetype": "text/x-python",
   "name": "python",
   "nbconvert_exporter": "python",
   "pygments_lexer": "ipython2",
   "version": "2.7.12"
  }
 },
 "nbformat": 4,
 "nbformat_minor": 0
}
