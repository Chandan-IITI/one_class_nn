{
 "cells": [
  {
   "cell_type": "markdown",
   "metadata": {},
   "source": [
    "### GAN USPS one class classifier"
   ]
  },
  {
   "cell_type": "code",
   "execution_count": 1,
   "metadata": {
    "collapsed": false
   },
   "outputs": [],
   "source": [
    "%matplotlib inline\n",
    "import numpy as np\n",
    "import pandas as pd\n",
    "from sklearn import utils\n",
    "import matplotlib.pyplot as plt\n",
    "\n",
    "dataPath = './data/'\n",
    "def prepare_usps_mlfetch():\n",
    "\n",
    "    import tempfile\n",
    "    import pickle\n",
    "    print \"importing usps from pickle file .....\"\n",
    "\n",
    "    with open(dataPath+'usps_data.pkl', \"rb\") as fp:\n",
    "          loaded_data1 = pickle.load(fp)\n",
    "\n",
    "    # test_data_home = tempfile.mkdtemp()\n",
    "    # from sklearn.datasets.mldata import fetch_mldata\n",
    "    # usps = fetch_mldata('usps', data_home=test_data_home)\n",
    "    # print usps.target.shape\n",
    "    # print type(usps.target)\n",
    "    labels = loaded_data1['target']\n",
    "    data = loaded_data1['data']\n",
    "    # print \"******\",labels\n",
    "\n",
    "    k_ones = np.where(labels == 2)\n",
    "    label_ones = labels[k_ones]\n",
    "    data_ones = data[k_ones]\n",
    "\n",
    "    k_sevens = np.where(labels == 8)\n",
    "    label_sevens = labels[k_sevens]\n",
    "    data_sevens = data[k_sevens]\n",
    "    #\n",
    "    # print \"data_sevens:\",data_sevens.shape\n",
    "    # print \"label_sevens:\",label_sevens.shape\n",
    "    # print \"data_ones:\",data_ones.shape\n",
    "    # print \"label_ones:\",label_ones.shape\n",
    "    #\n",
    "    data_ones = data_ones[:220]\n",
    "    label_ones= label_ones[:220]\n",
    "    data_sevens = data_sevens[:11]\n",
    "    label_sevens = label_sevens[:11]\n",
    "\n",
    "    data = np.concatenate((data_ones,data_sevens),axis=0)\n",
    "    label = np.concatenate((label_ones,label_sevens),axis=0)\n",
    "    label[0:220] = 1\n",
    "    label[220:231] = 0\n",
    "    # print \"1-s\",data[0]\n",
    "    # print label\n",
    "    # print \"7-s\",data[230]\n",
    "    # print label\n",
    "    # print \"data:\",data.shape\n",
    "    # print \"label:\",label.shape\n",
    "    return [data,label]\n",
    "\n"
   ]
  },
  {
   "cell_type": "markdown",
   "metadata": {},
   "source": [
    "###  Develop a GAN_Tflearn model as one class classifier"
   ]
  },
  {
   "cell_type": "code",
   "execution_count": 2,
   "metadata": {
    "collapsed": false
   },
   "outputs": [
    {
     "name": "stdout",
     "output_type": "stream",
     "text": [
      "Training Step: 149  | total loss: \u001b[1m\u001b[32m4.48276\u001b[0m\u001b[0m | time: 0.075s\n",
      "| GEN | epoch: 010 | loss: 0.44918 -- iter: 224/231\n",
      "| DISC | epoch: 010 | loss: 4.03358 -- iter: 224/231\n",
      "Training Step: 150  | total loss: \u001b[1m\u001b[32m4.37256\u001b[0m\u001b[0m | time: 0.080s\n",
      "| GEN | epoch: 010 | loss: 0.49643 -- iter: 231/231\n",
      "| DISC | epoch: 010 | loss: 3.87613 -- iter: 231/231\n",
      "--\n"
     ]
    },
    {
     "name": "stderr",
     "output_type": "stream",
     "text": [
      "/Users/raghav/anaconda/lib/python2.7/site-packages/matplotlib/figure.py:397: UserWarning: matplotlib is currently using a non-GUI backend, so cannot show the figure\n",
      "  \"matplotlib is currently using a non-GUI backend, \"\n"
     ]
    },
    {
     "data": {
      "image/png": "[encoded data removed]",
      "text/plain": [
       "<matplotlib.figure.Figure at 0x125c86850>"
      ]
     },
     "metadata": {},
     "output_type": "display_data"
    }
   ],
   "source": [
    "\n",
    "\n",
    "import tensorflow as tf\n",
    "import tflearn\n",
    "import numpy as np\n",
    "from scipy.io import loadmat\n",
    "import os,sys\n",
    "\n",
    "#load data from usps dataset\n",
    "image_dim = 256 # 16*16 pixels\n",
    "z_dim = 256 # 16*16 pixels\n",
    "\n",
    "[Xtrue,Xlabels] = prepare_usps_mlfetch()\n",
    "X = Xtrue\n",
    "#convert X to range in 0 ~ 1\n",
    "X=(X+1)/2\n",
    "Y = Xlabels\n",
    "print \"data shape...\",X.shape\n",
    "\n",
    "\n",
    "# Generator\n",
    "def generator(x, reuse=False):\n",
    "    with tf.variable_scope('Generator', reuse=reuse):\n",
    "        x = tflearn.fully_connected(x, 256, activation='relu')\n",
    "        x = tflearn.fully_connected(x, image_dim, activation='sigmoid')\n",
    "        return x\n",
    "\n",
    "\n",
    "# Discriminator\n",
    "def discriminator(x, reuse=False):\n",
    "    with tf.variable_scope('Discriminator', reuse=reuse):\n",
    "        x = tflearn.fully_connected(x, 256, activation='relu')\n",
    "        x = tflearn.fully_connected(x, 1, activation='sigmoid')\n",
    "        return x\n",
    "\n",
    "# # Build Networks\n",
    "gen_input = tflearn.input_data(shape=[None, z_dim], name='input_gen')\n",
    "disc_input = tflearn.input_data(shape=[None, 256], name='input_disc')\n",
    "\n",
    "gen_sample = generator(gen_input)\n",
    "disc_real = discriminator(disc_input)\n",
    "disc_fake = discriminator(gen_sample, reuse=True)\n",
    "\n",
    "# # Define Loss\n",
    "disc_loss = -tf.reduce_mean(tf.log(disc_real) + tf.log(1. - disc_fake))\n",
    "gen_loss = -tf.reduce_mean(tf.log(disc_fake))\n",
    "\n",
    "# Build Training Ops for both Generator and Discriminator.\n",
    "# Each network optimization should only update its own variable, thus we need\n",
    "# to retrieve each network variables (with get_layer_variables_by_scope) and set\n",
    "# 'placeholder=None' because we do not need to feed any target.\n",
    "gen_vars = tflearn.get_layer_variables_by_scope('Generator')\n",
    "gen_model = tflearn.regression(gen_sample, placeholder=None, optimizer='adam',\n",
    "                               loss=gen_loss, trainable_vars=gen_vars,\n",
    "                               batch_size=16, name='target_gen', op_name='GEN')\n",
    "\n",
    "disc_vars = tflearn.get_layer_variables_by_scope('Discriminator')\n",
    "disc_model = tflearn.regression(disc_real, placeholder=None, optimizer='adam',\n",
    "                                loss=disc_loss, trainable_vars=disc_vars,\n",
    "                                batch_size=16, name='target_disc', op_name='DISC')\n",
    "\n",
    "# Define GAN model, that output the generated images.\n",
    "gan = tflearn.DNN(gen_model)\n",
    "\n",
    "# Training\n",
    "# Generate noise to feed to the generator\n",
    "total_samples = len(X)\n",
    "# z = np.random.uniform(-1., 1., size=[total_samples, z_dim])\n",
    "\n",
    "# Start training, feed both noise and real images.\n",
    "gan.fit(X_inputs={gen_input: X, disc_input: X},\n",
    "        Y_targets=Y,\n",
    "        n_epoch=200)\n",
    "\n",
    "# Generate images from noise, using the generator network.\n",
    "f, a = plt.subplots(2, 10, figsize=(10, 4))\n",
    "for i in range(10):\n",
    "    for j in range(2):\n",
    "        # Noise input.\n",
    "#         z = np.random.uniform(-1., 1., size=[1, z_dim])\n",
    "        # Generate image from noise. Extend to 3 channels for matplot figure.\n",
    "        temp = [[ii, ii, ii] for ii in list(gan.predict([X])[0])]\n",
    "        a[j][i].imshow(np.reshape(temp, (16, 16, 3)))\n",
    "f.show()\n",
    "plt.draw()\n"
   ]
  },
  {
   "cell_type": "code",
   "execution_count": 5,
   "metadata": {
    "collapsed": false
   },
   "outputs": [
    {
     "data": {
      "text/plain": [
       "(1, 256)"
      ]
     },
     "execution_count": 5,
     "metadata": {},
     "output_type": "execute_result"
    }
   ],
   "source": [
    "gan.predict([z]).shape\n"
   ]
  },
  {
   "cell_type": "code",
   "execution_count": 3,
   "metadata": {
    "collapsed": false
   },
   "outputs": [
    {
     "ename": "AttributeError",
     "evalue": "'list' object has no attribute 'shape'",
     "output_type": "error",
     "traceback": [
      "\u001b[0;31m---------------------------------------------------------------------------\u001b[0m",
      "\u001b[0;31mAttributeError\u001b[0m                            Traceback (most recent call last)",
      "\u001b[0;32m<ipython-input-3-1740d37df525>\u001b[0m in \u001b[0;36m<module>\u001b[0;34m()\u001b[0m\n\u001b[0;32m----> 1\u001b[0;31m \u001b[0mtemp\u001b[0m\u001b[0;34m.\u001b[0m\u001b[0mshape\u001b[0m\u001b[0;34m\u001b[0m\u001b[0m\n\u001b[0m",
      "\u001b[0;31mAttributeError\u001b[0m: 'list' object has no attribute 'shape'"
     ]
    }
   ],
   "source": [
    "temp.shape"
   ]
  },
  {
   "cell_type": "code",
   "execution_count": null,
   "metadata": {
    "collapsed": true
   },
   "outputs": [],
   "source": []
  }
 ],
 "metadata": {
  "kernelspec": {
   "display_name": "Python 2",
   "language": "python",
   "name": "python2"
  },
  "language_info": {
   "codemirror_mode": {
    "name": "ipython",
    "version": 2
   },
   "file_extension": ".py",
   "mimetype": "text/x-python",
   "name": "python",
   "nbconvert_exporter": "python",
   "pygments_lexer": "ipython2",
   "version": "2.7.12"
  }
 },
 "nbformat": 4,
 "nbformat_minor": 0
}
