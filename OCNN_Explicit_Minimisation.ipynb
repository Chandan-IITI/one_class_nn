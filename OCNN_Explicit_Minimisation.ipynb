{
 "cells": [
  {
   "cell_type": "code",
   "execution_count": 3,
   "metadata": {
    "collapsed": false,
    "deletable": true,
    "editable": true
   },
   "outputs": [],
   "source": [
    "%matplotlib inline\n",
    "\n",
    "import numpy  as np\n",
    "import pandas as pd\n",
    "\n",
    "from sklearn import utils\n",
    "\n",
    "import matplotlib.pyplot as plt\n",
    "import seaborn as srn"
   ]
  },
  {
   "cell_type": "code",
   "execution_count": 4,
   "metadata": {
    "collapsed": false,
    "deletable": true,
    "editable": true
   },
   "outputs": [
    {
     "name": "stdout",
     "output_type": "stream",
     "text": [
      "importing usps from pickle file .....\n"
     ]
    }
   ],
   "source": [
    "from sklearn.datasets.mldata import fetch_mldata\n",
    "import tempfile\n",
    "\n",
    "%matplotlib inline\n",
    "\n",
    "from data_fetch import prepare_usps_mlfetch\n",
    "[Xtrue,Xlabels] = prepare_usps_mlfetch()\n",
    "\n",
    "data = Xtrue\n",
    "label = Xlabels\n",
    "data_train    = data[0:220]\n",
    "targets_train = label[0:220]\n",
    "data_test     = data[220:231]\n",
    "targets_test  = label[220:231]\n",
    "\n",
    "# test_data_home = tempfile.mkdtemp()\n",
    "# usps = fetch_mldata('usps', data_home = test_data_home)"
   ]
  },
  {
   "cell_type": "code",
   "execution_count": null,
   "metadata": {
    "collapsed": true
   },
   "outputs": [],
   "source": [
    "# data  = usps.data\n",
    "# label = usps.target\n",
    "# data_train    = data[0:220]\n",
    "# targets_train = label[0:220]\n",
    "# data_test     = data[220:231]\n",
    "# targets_test  = label[220:231]"
   ]
  },
  {
   "cell_type": "code",
   "execution_count": 4,
   "metadata": {
    "collapsed": false,
    "deletable": true,
    "editable": true
   },
   "outputs": [
    {
     "ename": "UnicodeDecodeError",
     "evalue": "'ascii' codec can't decode byte 0xf0 in position 6: ordinal not in range(128)",
     "output_type": "error",
     "traceback": [
      "\u001b[0;31m---------------------------------------------------------------------------\u001b[0m",
      "\u001b[0;31mUnicodeDecodeError\u001b[0m                        Traceback (most recent call last)",
      "\u001b[0;32m<ipython-input-4-c61cbb58cdb6>\u001b[0m in \u001b[0;36m<module>\u001b[0;34m()\u001b[0m\n\u001b[1;32m      2\u001b[0m \u001b[0;31m# pickle.dump([ data_train, targets_train, data_test, targets_test ], open('data/usps.pkl', 'wb'))\u001b[0m\u001b[0;34m\u001b[0m\u001b[0;34m\u001b[0m\u001b[0m\n\u001b[1;32m      3\u001b[0m \u001b[0;34m\u001b[0m\u001b[0m\n\u001b[0;32m----> 4\u001b[0;31m \u001b[0mdata\u001b[0m \u001b[0;34m=\u001b[0m \u001b[0mpickle\u001b[0m\u001b[0;34m.\u001b[0m\u001b[0mload\u001b[0m\u001b[0;34m(\u001b[0m\u001b[0mopen\u001b[0m\u001b[0;34m(\u001b[0m\u001b[0;34m'data/usps.pkl'\u001b[0m\u001b[0;34m,\u001b[0m \u001b[0;34m'rb'\u001b[0m\u001b[0;34m)\u001b[0m\u001b[0;34m)\u001b[0m\u001b[0;34m\u001b[0m\u001b[0m\n\u001b[0m\u001b[1;32m      5\u001b[0m \u001b[0;31m# print(data[3])\u001b[0m\u001b[0;34m\u001b[0m\u001b[0;34m\u001b[0m\u001b[0m\n",
      "\u001b[0;31mUnicodeDecodeError\u001b[0m: 'ascii' codec can't decode byte 0xf0 in position 6: ordinal not in range(128)"
     ]
    }
   ],
   "source": [
    "# import pickle\n",
    "# pickle.dump([ data_train, targets_train, data_test, targets_test ], open('data/usps.pkl', 'wb'))\n",
    "\n",
    "# data = pickle.load(open('data/usps.pkl', 'rb'))\n",
    "# print(data[3])"
   ]
  },
  {
   "cell_type": "markdown",
   "metadata": {},
   "source": [
    "## OC-SVM explicit"
   ]
  },
  {
   "cell_type": "code",
   "execution_count": 8,
   "metadata": {
    "collapsed": true
   },
   "outputs": [],
   "source": [
    "# def relu(x):\n",
    "#     y = x\n",
    "#     y[y < 0] = 0\n",
    "#     return y\n",
    "\n",
    "# def svmScore(X, w):\n",
    "#     return X.dot(w)\n",
    "\n",
    "# def ocsvm_obj(theta, X, nu, D):\n",
    "    \n",
    "#     w = theta[:D]\n",
    "#     r = theta[D:]\n",
    "    \n",
    "#     term1 = 0.5 * np.sum(w**2)\n",
    "#     term2 = 1/nu * np.mean(relu(r - svmScore(X, w)))\n",
    "#     term3 = -r\n",
    "    \n",
    "#     return term1 + term2 + term3"
   ]
  },
  {
   "cell_type": "code",
   "execution_count": 52,
   "metadata": {
    "collapsed": false
   },
   "outputs": [],
   "source": [
    "def relu(x):\n",
    "    y = x\n",
    "    y[y < 0] = 0\n",
    "    return y\n",
    "\n",
    "def dRelu(x):\n",
    "    y = x\n",
    "    y[x <= 0] = 0\n",
    "    y[x > 0]  = np.ones((len(x[x > 0]),))\n",
    "    return y\n",
    "\n",
    "def svmScore(X, w):\n",
    "    return X.dot(w)\n",
    "\n",
    "def ocsvm_obj(theta, X, nu, D):\n",
    "    \n",
    "    w = theta[:D]\n",
    "    r = theta[D:]\n",
    "    \n",
    "    term1 = 0.5 * np.sum(w**2)\n",
    "    term2 = 1/nu * np.mean(relu(r - svmScore(X, w)))\n",
    "    term3 = -r\n",
    "    \n",
    "    return term1 + term2 + term3\n",
    "\n",
    "def ocsvm_grad(theta, X, nu, D):\n",
    "    \n",
    "    w = theta[:D]\n",
    "    r = theta[D:]\n",
    "    \n",
    "    deriv = dRelu(r - svmScore(X, w))\n",
    "    print(deriv.shape)\n",
    "    print(X.shape)\n",
    "\n",
    "    term1 = np.append(w, 0)\n",
    "    term2 = np.vstack([ 1/nu * np.mean(deriv[:,np.newaxis] * (-X), axis = 0),\n",
    "\n",
    "                        1/nu * np.mean(deriv) ])\n",
    "    term3 = np.append(0*w, -r)\n",
    "\n",
    "    grad = term1 + term2 + term3\n",
    "    print((term1.shape, term2.shape, term3.shape))\n",
    "    \n",
    "    return grad"
   ]
  },
  {
   "cell_type": "code",
   "execution_count": 51,
   "metadata": {
    "collapsed": false
   },
   "outputs": [
    {
     "name": "stdout",
     "output_type": "stream",
     "text": [
      "(220,)\n",
      "(220, 256)\n",
      "((257,), (2, 1), (257,))\n"
     ]
    },
    {
     "ename": "error",
     "evalue": "failed in converting 7th argument `g' of _lbfgsb.setulb to C/Fortran array",
     "output_type": "error",
     "traceback": [
      "\u001b[0;31m---------------------------------------------------------------------------\u001b[0m",
      "\u001b[0;31merror\u001b[0m                                     Traceback (most recent call last)",
      "\u001b[0;32m<ipython-input-51-45f57862ea2e>\u001b[0m in \u001b[0;36m<module>\u001b[0;34m()\u001b[0m\n\u001b[1;32m     13\u001b[0m \u001b[0;31m#                options = {'gtol': 1e-8, 'disp': True, 'maxiter' : 50000, 'maxfun' : 10000})\u001b[0m\u001b[0;34m\u001b[0m\u001b[0;34m\u001b[0m\u001b[0m\n\u001b[1;32m     14\u001b[0m res = minimize(ocsvm_obj, theta0, method = 'L-BFGS-B', jac = ocsvm_grad, args = (X, nu, D),\n\u001b[0;32m---> 15\u001b[0;31m                options = {'gtol': 1e-8, 'disp': True, 'maxiter' : 50000, 'maxfun' : 10000})\n\u001b[0m",
      "\u001b[0;32m/Users/raghav/anaconda/lib/python2.7/site-packages/scipy/optimize/_minimize.pyc\u001b[0m in \u001b[0;36mminimize\u001b[0;34m(fun, x0, args, method, jac, hess, hessp, bounds, constraints, tol, callback, options)\u001b[0m\n\u001b[1;32m    448\u001b[0m     \u001b[0;32melif\u001b[0m \u001b[0mmeth\u001b[0m \u001b[0;34m==\u001b[0m \u001b[0;34m'l-bfgs-b'\u001b[0m\u001b[0;34m:\u001b[0m\u001b[0;34m\u001b[0m\u001b[0m\n\u001b[1;32m    449\u001b[0m         return _minimize_lbfgsb(fun, x0, args, jac, bounds,\n\u001b[0;32m--> 450\u001b[0;31m                                 callback=callback, **options)\n\u001b[0m\u001b[1;32m    451\u001b[0m     \u001b[0;32melif\u001b[0m \u001b[0mmeth\u001b[0m \u001b[0;34m==\u001b[0m \u001b[0;34m'tnc'\u001b[0m\u001b[0;34m:\u001b[0m\u001b[0;34m\u001b[0m\u001b[0m\n\u001b[1;32m    452\u001b[0m         return _minimize_tnc(fun, x0, args, jac, bounds, callback=callback,\n",
      "\u001b[0;32m/Users/raghav/anaconda/lib/python2.7/site-packages/scipy/optimize/lbfgsb.pyc\u001b[0m in \u001b[0;36m_minimize_lbfgsb\u001b[0;34m(fun, x0, args, jac, bounds, disp, maxcor, ftol, gtol, eps, maxfun, maxiter, iprint, callback, maxls, **unknown_options)\u001b[0m\n\u001b[1;32m    319\u001b[0m         _lbfgsb.setulb(m, x, low_bnd, upper_bnd, nbd, f, g, factr,\n\u001b[1;32m    320\u001b[0m                        \u001b[0mpgtol\u001b[0m\u001b[0;34m,\u001b[0m \u001b[0mwa\u001b[0m\u001b[0;34m,\u001b[0m \u001b[0miwa\u001b[0m\u001b[0;34m,\u001b[0m \u001b[0mtask\u001b[0m\u001b[0;34m,\u001b[0m \u001b[0miprint\u001b[0m\u001b[0;34m,\u001b[0m \u001b[0mcsave\u001b[0m\u001b[0;34m,\u001b[0m \u001b[0mlsave\u001b[0m\u001b[0;34m,\u001b[0m\u001b[0;34m\u001b[0m\u001b[0m\n\u001b[0;32m--> 321\u001b[0;31m                        isave, dsave, maxls)\n\u001b[0m\u001b[1;32m    322\u001b[0m         \u001b[0mtask_str\u001b[0m \u001b[0;34m=\u001b[0m \u001b[0mtask\u001b[0m\u001b[0;34m.\u001b[0m\u001b[0mtostring\u001b[0m\u001b[0;34m(\u001b[0m\u001b[0;34m)\u001b[0m\u001b[0;34m\u001b[0m\u001b[0m\n\u001b[1;32m    323\u001b[0m         \u001b[0;32mif\u001b[0m \u001b[0mtask_str\u001b[0m\u001b[0;34m.\u001b[0m\u001b[0mstartswith\u001b[0m\u001b[0;34m(\u001b[0m\u001b[0;34mb'FG'\u001b[0m\u001b[0;34m)\u001b[0m\u001b[0;34m:\u001b[0m\u001b[0;34m\u001b[0m\u001b[0m\n",
      "\u001b[0;31merror\u001b[0m: failed in converting 7th argument `g' of _lbfgsb.setulb to C/Fortran array"
     ]
    }
   ],
   "source": [
    "from scipy.optimize import minimize\n",
    "\n",
    "X  = data_train\n",
    "D  = X.shape[1]\n",
    "nu = 0.04\n",
    "\n",
    "np.random.seed(42)\n",
    "theta0 = np.random.normal(0, 1, D + 1)\n",
    "# res = minimize(ocsvm_obj, theta0, method = 'L-BFGS-B', args = (X, nu, D),\n",
    "#                options = {'gtol': 1e-8, 'disp': True, 'maxiter' : 50000, 'maxfun' : 10000})\n",
    "\n",
    "# res = minimize(ocsvm_obj, theta0, method = 'nelder-mead', args = (X, nu, D),\n",
    "#                options = {'gtol': 1e-8, 'disp': True, 'maxiter' : 50000, 'maxfun' : 10000})\n",
    "res = minimize(ocsvm_obj, theta0, method = 'L-BFGS-B', jac = ocsvm_grad, args = (X, nu, D),\n",
    "               options = {'gtol': 1e-8, 'disp': True, 'maxiter' : 50000, 'maxfun' : 10000})\n"
   ]
  },
  {
   "cell_type": "code",
   "execution_count": 16,
   "metadata": {
    "collapsed": false
   },
   "outputs": [
    {
     "data": {
      "text/plain": [
       "(array([ 2.,  2.,  2.,  1.,  0.,  1.,  2.,  0.,  0.,  1.]),\n",
       " array([-3.52730654, -2.473291  , -1.41927547, -0.36525993,  0.6887556 ,\n",
       "         1.74277113,  2.79678667,  3.8508022 ,  4.90481773,  5.95883327,\n",
       "         7.0128488 ]),\n",
       " <a list of 10 Patch objects>)"
      ]
     },
     "execution_count": 16,
     "metadata": {},
     "output_type": "execute_result"
    },
    {
     "data": {
      "image/png": "[encoded data removed]",
      "text/plain": [
       "<matplotlib.figure.Figure at 0x11231ae10>"
      ]
     },
     "metadata": {},
     "output_type": "display_data"
    }
   ],
   "source": [
    "plt.hist(svmScore(data[label == +1, :], res.x[0:-1]))\n",
    "plt.hist(svmScore(data[label == -1, :], res.x[0:-1]))"
   ]
  },
  {
   "cell_type": "markdown",
   "metadata": {},
   "source": [
    "## OC-NN explicit"
   ]
  },
  {
   "cell_type": "markdown",
   "metadata": {
    "deletable": true,
    "editable": true
   },
   "source": [
    "We perform PCA to a smaller number of dimensions. This is just to make the optimisation burden lighter."
   ]
  },
  {
   "cell_type": "code",
   "execution_count": 6,
   "metadata": {
    "collapsed": false,
    "deletable": true,
    "editable": true
   },
   "outputs": [],
   "source": [
    "from sklearn.decomposition import PCA\n",
    "pca = PCA(n_components = 16, svd_solver='full')\n",
    "pca.fit(data_train)\n",
    "\n",
    "data_train = pca.transform(data_train)\n",
    "data_test  = pca.transform(data_test)"
   ]
  },
  {
   "cell_type": "code",
   "execution_count": null,
   "metadata": {
    "collapsed": true
   },
   "outputs": [],
   "source": []
  },
  {
   "cell_type": "markdown",
   "metadata": {
    "deletable": true,
    "editable": true
   },
   "source": [
    "Define the OC-NN objective function as per the notes. It accepts the activation g(.) as an argument as well."
   ]
  },
  {
   "cell_type": "code",
   "execution_count": 7,
   "metadata": {
    "collapsed": true,
    "deletable": true,
    "editable": true
   },
   "outputs": [],
   "source": [
    "def relu(x):\n",
    "    y = x\n",
    "    y[y < 0] = 0\n",
    "    return y\n",
    "\n",
    "def nnScore(X, w, V, g):\n",
    "    return g((X.dot(V))).dot(w)\n",
    "\n",
    "def ocnn_obj(theta, X, nu, D, K, g):\n",
    "    \n",
    "    w = theta[:K]\n",
    "    V = theta[K:K+K*D].reshape((D, K))\n",
    "    r = theta[K+K*D:]\n",
    "    \n",
    "    term1 = 0.5 * np.sum(w**2)\n",
    "    term2 = 0.5 * np.sum(V**2)\n",
    "    term3 = 1/nu * np.mean(relu(r - nnScore(X, w, V, g)))\n",
    "    term4 = -r\n",
    "    \n",
    "    return term1 + term2 + term3 + term4"
   ]
  },
  {
   "cell_type": "markdown",
   "metadata": {
    "deletable": true,
    "editable": true
   },
   "source": [
    "Minimise objective explicitly for some small number of hidden units."
   ]
  },
  {
   "cell_type": "code",
   "execution_count": 8,
   "metadata": {
    "collapsed": false,
    "deletable": true,
    "editable": true
   },
   "outputs": [],
   "source": [
    "from scipy.optimize import minimize\n",
    "\n",
    "X  = data_train\n",
    "D  = X.shape[1]\n",
    "K  = 2\n",
    "nu = 0.04\n",
    "g  = lambda x : x\n",
    "#g  = lambda x : 1/(1 + np.exp(-x))\n",
    "#g  = lambda x : relu(x)\n",
    "\n",
    "np.random.seed(42)\n",
    "theta0 = np.random.normal(0, 1, K + K*D + 1)\n",
    "res = minimize(ocnn_obj, theta0, method = 'L-BFGS-B', args = (X, nu, D, K, g),\n",
    "               options = {'gtol': 1e-8, 'disp': True, 'maxiter' : 50000, 'maxfun' : 10000})"
   ]
  },
  {
   "cell_type": "code",
   "execution_count": 9,
   "metadata": {
    "collapsed": false,
    "deletable": true,
    "editable": true
   },
   "outputs": [],
   "source": [
    "thetaStar = res.x\n",
    "\n",
    "wStar = thetaStar[:K]\n",
    "VStar = thetaStar[K:K+K*D].reshape((D, K))\n",
    "rStar = thetaStar[K+K*D:]"
   ]
  },
  {
   "cell_type": "code",
   "execution_count": 10,
   "metadata": {
    "collapsed": false,
    "deletable": true,
    "editable": true
   },
   "outputs": [
    {
     "name": "stdout",
     "output_type": "stream",
     "text": [
      "[ -3.30870097e-07]\n",
      "-2.87063540253e-07\n"
     ]
    }
   ],
   "source": [
    "print(rStar)\n",
    "print(np.percentile(nnScore(data_train, wStar, VStar, g), q = 100 * nu))"
   ]
  },
  {
   "cell_type": "code",
   "execution_count": 11,
   "metadata": {
    "collapsed": false,
    "deletable": true,
    "editable": true
   },
   "outputs": [
    {
     "data": {
      "text/plain": [
       "<matplotlib.text.Text at 0x117e47dd0>"
      ]
     },
     "execution_count": 11,
     "metadata": {},
     "output_type": "execute_result"
    },
    {
     "data": {
      "image/png": "[encoded data removed]",
      "text/plain": [
       "<matplotlib.figure.Figure at 0x11100cfd0>"
      ]
     },
     "metadata": {},
     "output_type": "display_data"
    }
   ],
   "source": [
    "# plt.xlim(-0.002,0.010)\n",
    "plt.hist(nnScore(data_train, wStar, VStar, g)/rStar);\n",
    "plt.hist(nnScore(data_test, wStar, VStar, g)/rStar);\n",
    "plt.title('r = %1.6f' % rStar)"
   ]
  },
  {
   "cell_type": "code",
   "execution_count": null,
   "metadata": {
    "collapsed": true,
    "deletable": true,
    "editable": true
   },
   "outputs": [],
   "source": []
  }
 ],
 "metadata": {
  "kernelspec": {
   "display_name": "Python 2",
   "language": "python",
   "name": "python2"
  },
  "language_info": {
   "codemirror_mode": {
    "name": "ipython",
    "version": 2
   },
   "file_extension": ".py",
   "mimetype": "text/x-python",
   "name": "python",
   "nbconvert_exporter": "python",
   "pygments_lexer": "ipython2",
   "version": "2.7.12"
  }
 },
 "nbformat": 4,
 "nbformat_minor": 0
}
