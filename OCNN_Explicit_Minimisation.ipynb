{
 "cells": [
  {
   "cell_type": "code",
   "execution_count": 1,
   "metadata": {
    "collapsed": false,
    "deletable": true,
    "editable": true
   },
   "outputs": [],
   "source": [
    "%matplotlib inline\n",
    "\n",
    "import numpy  as np\n",
    "import pandas as pd\n",
    "\n",
    "from sklearn import utils\n",
    "\n",
    "import matplotlib.pyplot as plt\n",
    "import seaborn as srn"
   ]
  },
  {
   "cell_type": "code",
   "execution_count": 2,
   "metadata": {
    "collapsed": false
   },
   "outputs": [
    {
     "name": "stdout",
     "output_type": "stream",
     "text": [
      "importing usps from pickle file .....\n"
     ]
    }
   ],
   "source": [
    "from sklearn.datasets.mldata import fetch_mldata\n",
    "import tempfile\n",
    "\n",
    "%matplotlib inline\n",
    "from data_fetch import prepare_usps_mlfetch\n",
    "[Xtrue,Xlabels] = prepare_usps_mlfetch()\n",
    "data = Xtrue\n",
    "label = Xlabels\n",
    "data_train    = data[0:220]\n",
    "targets_train = label[0:220]\n",
    "data_test     = data[220:231]\n",
    "targets_test  = label[220:231]\n",
    "\n",
    "# test_data_home = tempfile.mkdtemp()\n",
    "# usps = fetch_mldata('usps', data_home = test_data_home)"
   ]
  },
  {
   "cell_type": "code",
   "execution_count": 3,
   "metadata": {
    "collapsed": false
   },
   "outputs": [],
   "source": [
    "# labels = usps.target\n",
    "# data   = usps.data\n",
    "\n",
    "# k_ones     = np.where(labels == 1+1)\n",
    "# label_ones = labels[k_ones]\n",
    "# data_ones  = data[k_ones]\n",
    "\n",
    "# k_sevens     = np.where(labels == 1+7)\n",
    "# label_sevens = labels[k_sevens]\n",
    "# data_sevens  = data[k_sevens]\n",
    "\n",
    "# data_ones    = data_ones[:220]\n",
    "# label_ones   = label_ones[:220]\n",
    "# data_sevens  = data_sevens[:11]\n",
    "# label_sevens = label_sevens[:11]\n",
    "\n",
    "# data  = np.concatenate((data_ones,data_sevens),axis=0)\n",
    "# label = np.concatenate((label_ones,label_sevens),axis=0)\n",
    "\n",
    "# label[0:220]   = +1\n",
    "# label[220:231] = -1"
   ]
  },
  {
   "cell_type": "code",
   "execution_count": 4,
   "metadata": {
    "collapsed": false,
    "deletable": true,
    "editable": true
   },
   "outputs": [],
   "source": [
    "# data_train    = data[0:220]\n",
    "# targets_train = label[0:220]\n",
    "# data_test     = data[220:231]\n",
    "# targets_test  = label[220:231]"
   ]
  },
  {
   "cell_type": "code",
   "execution_count": 5,
   "metadata": {
    "collapsed": false
   },
   "outputs": [],
   "source": [
    "import pickle\n",
    "pickle.dump([ data_train, targets_train, data_test, targets_test ], open('data/usps.pkl', 'wb'))\n",
    "\n",
    "# data = pickle.load(open('data/usps.pkl', 'rb'))\n",
    "# print(data[3])"
   ]
  },
  {
   "cell_type": "markdown",
   "metadata": {},
   "source": [
    "We perform PCA to a smaller number of dimensions. This is just to make the optimisation burden lighter."
   ]
  },
  {
   "cell_type": "code",
   "execution_count": 6,
   "metadata": {
    "collapsed": false
   },
   "outputs": [],
   "source": [
    "from sklearn.decomposition import PCA\n",
    "pca = PCA(n_components = 16, svd_solver='full')\n",
    "pca.fit(data_train)\n",
    "\n",
    "data_train = pca.transform(data_train)\n",
    "data_test  = pca.transform(data_test)"
   ]
  },
  {
   "cell_type": "markdown",
   "metadata": {},
   "source": [
    "Define the OC-NN objective function as per the notes. It accepts the activation g(.) as an argument as well."
   ]
  },
  {
   "cell_type": "code",
   "execution_count": 7,
   "metadata": {
    "collapsed": true
   },
   "outputs": [],
   "source": [
    "def relu(x):\n",
    "    y = x\n",
    "    y[y < 0] = 0\n",
    "    return y\n",
    "\n",
    "def nnScore(X, w, V, g):\n",
    "    return g(X.dot(V)).dot(w)\n",
    "\n",
    "def ocnn_obj(theta, X, nu, D, K, g):\n",
    "    \n",
    "    w = theta[:K]\n",
    "    V = theta[K:K+K*D].reshape((D, K))\n",
    "    r = theta[K+K*D:]\n",
    "    \n",
    "    term1 = 0.5 * np.sum(w**2)\n",
    "    term2 = 0.5 * np.sum(V**2)\n",
    "    term3 = 1/nu * np.mean(relu(r - nnScore(X, w, V, g)))\n",
    "    term4 = -r\n",
    "    \n",
    "    return term1 + term2 + term3 + term4"
   ]
  },
  {
   "cell_type": "markdown",
   "metadata": {},
   "source": [
    "Minimise objective explicitly for some small number of hidden units."
   ]
  },
  {
   "cell_type": "code",
   "execution_count": 8,
   "metadata": {
    "collapsed": false
   },
   "outputs": [],
   "source": [
    "from scipy.optimize import minimize\n",
    "\n",
    "X  = data_train\n",
    "D  = X.shape[1]\n",
    "K  = 2\n",
    "nu = 0.04\n",
    "g  = lambda x : x\n",
    "#g  = lambda x : 1/(1 + np.exp(-x))\n",
    "#g  = lambda x : relu(x)\n",
    "\n",
    "np.random.seed(42)\n",
    "theta0 = np.random.normal(0, 1, K + K*D + 1)\n",
    "res = minimize(ocnn_obj, theta0, method = 'L-BFGS-B', args = (X, nu, D, K, g),\n",
    "               options = {'gtol': 1e-8, 'disp': True, 'maxiter' : 50000, 'maxfun' : 10000})"
   ]
  },
  {
   "cell_type": "code",
   "execution_count": 9,
   "metadata": {
    "collapsed": false
   },
   "outputs": [],
   "source": [
    "thetaStar = res.x\n",
    "\n",
    "wStar = thetaStar[:K]\n",
    "VStar = thetaStar[K:K+K*D].reshape((D, K))\n",
    "rStar = thetaStar[K+K*D:]"
   ]
  },
  {
   "cell_type": "code",
   "execution_count": 10,
   "metadata": {
    "collapsed": false
   },
   "outputs": [
    {
     "name": "stdout",
     "output_type": "stream",
     "text": [
      "[ -3.30870097e-07]\n",
      "-2.87063540253e-07\n"
     ]
    }
   ],
   "source": [
    "print(rStar)\n",
    "print(np.percentile(nnScore(data_train, wStar, VStar, g), q = 100 * nu))"
   ]
  },
  {
   "cell_type": "code",
   "execution_count": 11,
   "metadata": {
    "collapsed": false
   },
   "outputs": [
    {
     "data": {
      "text/plain": [
       "<matplotlib.text.Text at 0x11c2649b0>"
      ]
     },
     "execution_count": 11,
     "metadata": {},
     "output_type": "execute_result"
    },
    {
     "data": {
      "image/png": "[encoded data removed]",
      "text/plain": [
       "<matplotlib.figure.Figure at 0x117ca6ba8>"
      ]
     },
     "metadata": {},
     "output_type": "display_data"
    }
   ],
   "source": [
    "plt.hist(nnScore(data_train, wStar, VStar, g));\n",
    "plt.hist(nnScore(data_test, wStar, VStar, g));\n",
    "plt.title('r = %1.6f' % rStar)"
   ]
  },
  {
   "cell_type": "code",
   "execution_count": null,
   "metadata": {
    "collapsed": true
   },
   "outputs": [],
   "source": []
  }
 ],
 "metadata": {
  "kernelspec": {
   "display_name": "Python 2",
   "language": "python",
   "name": "python2"
  },
  "language_info": {
   "codemirror_mode": {
    "name": "ipython",
    "version": 2
   },
   "file_extension": ".py",
   "mimetype": "text/x-python",
   "name": "python",
   "nbconvert_exporter": "python",
   "pygments_lexer": "ipython2",
   "version": "2.7.12"
  }
 },
 "nbformat": 4,
 "nbformat_minor": 0
}
