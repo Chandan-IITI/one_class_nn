{
 "cells": [
  {
   "cell_type": "code",
   "execution_count": 1,
   "metadata": {
    "collapsed": false,
    "deletable": true,
    "editable": true
   },
   "outputs": [],
   "source": [
    "%matplotlib inline\n",
    "\n",
    "import numpy  as np\n",
    "import pandas as pd\n",
    "\n",
    "import matplotlib.pyplot as plt\n",
    "import seaborn as srn\n",
    "\n",
    "from data_fetch import prepare_usps_mlfetch"
   ]
  },
  {
   "cell_type": "code",
   "execution_count": 2,
   "metadata": {
    "collapsed": false,
    "deletable": true,
    "editable": true
   },
   "outputs": [
    {
     "name": "stdout",
     "output_type": "stream",
     "text": [
      "importing usps from pickle file .....\n"
     ]
    }
   ],
   "source": [
    "[Xtrue,Xlabels] = prepare_usps_mlfetch()\n",
    "\n",
    "data  = Xtrue\n",
    "label = Xlabels\n",
    "\n",
    "data_train    = data[0:220]\n",
    "data_test     = data[220:231]\n",
    "targets_train = label[0:220]\n",
    "targets_test  = label[220:231]\n",
    "\n",
    "# import tempfile\n",
    "# from sklearn.datasets.mldata import fetch_mldata\n",
    "# test_data_home = tempfile.mkdtemp()\n",
    "# usps = fetch_mldata('usps', data_home = test_data_home)"
   ]
  },
  {
   "cell_type": "markdown",
   "metadata": {
    "deletable": true,
    "editable": true
   },
   "source": [
    "## OC-SVM explicit"
   ]
  },
  {
   "cell_type": "markdown",
   "metadata": {},
   "source": [
    "Explicit objective and gradient for the OC-SVM, minimised with scipy."
   ]
  },
  {
   "cell_type": "code",
   "execution_count": 3,
   "metadata": {
    "collapsed": true
   },
   "outputs": [],
   "source": [
    "def relu(x):\n",
    "    y = x\n",
    "    y[y < 0] = 0\n",
    "    return y\n",
    "\n",
    "def dRelu(x):\n",
    "    y = x\n",
    "    y[x <= 0] = 0\n",
    "    y[x > 0]  = np.ones((len(x[x > 0]),))\n",
    "    return y"
   ]
  },
  {
   "cell_type": "code",
   "execution_count": 4,
   "metadata": {
    "collapsed": false,
    "deletable": true,
    "editable": true
   },
   "outputs": [],
   "source": [
    "def svmScore(X, w):\n",
    "    return X.dot(w)\n",
    "\n",
    "def ocsvm_obj(theta, X, nu, D):\n",
    "    \n",
    "    w = theta[:D]\n",
    "    r = theta[D:]\n",
    "    \n",
    "    term1 = 0.5 * np.sum(w**2)\n",
    "    term2 = 1/nu * np.mean(relu(r - svmScore(X, w)))\n",
    "    term3 = -r\n",
    "    \n",
    "    return term1 + term2 + term3\n",
    "\n",
    "def ocsvm_grad(theta, X, nu, D):\n",
    "    \n",
    "    w = theta[:D]\n",
    "    r = theta[D:]\n",
    "    \n",
    "    deriv = dRelu(r - svmScore(X, w))\n",
    "\n",
    "    term1 = np.append(w, 0)\n",
    "    term2 = np.append(1/nu * np.mean(deriv[:,np.newaxis] * (-X), axis = 0),\n",
    "                      1/nu * np.mean(deriv))\n",
    "    term3 = np.append(0*w, -1)\n",
    "\n",
    "    grad = term1 + term2 + term3\n",
    "    \n",
    "    return grad"
   ]
  },
  {
   "cell_type": "code",
<<<<<<< HEAD
   "execution_count": 53,
=======
   "execution_count": 5,
>>>>>>> 6fd21dd8bf47e65792f71621eae0230da8986d09
   "metadata": {
    "collapsed": false,
    "deletable": true,
    "editable": true
   },
   "outputs": [
    {
     "name": "stdout",
     "output_type": "stream",
     "text": [
<<<<<<< HEAD
      "(220,)\n",
      "(220, 256)\n"
     ]
    },
    {
     "ename": "ValueError",
     "evalue": "all the input array dimensions except for the concatenation axis must match exactly",
     "output_type": "error",
     "traceback": [
      "\u001b[0;31m---------------------------------------------------------------------------\u001b[0m",
      "\u001b[0;31mValueError\u001b[0m                                Traceback (most recent call last)",
      "\u001b[0;32m<ipython-input-53-45f57862ea2e>\u001b[0m in \u001b[0;36m<module>\u001b[0;34m()\u001b[0m\n\u001b[1;32m     13\u001b[0m \u001b[0;31m#                options = {'gtol': 1e-8, 'disp': True, 'maxiter' : 50000, 'maxfun' : 10000})\u001b[0m\u001b[0;34m\u001b[0m\u001b[0;34m\u001b[0m\u001b[0m\n\u001b[1;32m     14\u001b[0m res = minimize(ocsvm_obj, theta0, method = 'L-BFGS-B', jac = ocsvm_grad, args = (X, nu, D),\n\u001b[0;32m---> 15\u001b[0;31m                options = {'gtol': 1e-8, 'disp': True, 'maxiter' : 50000, 'maxfun' : 10000})\n\u001b[0m",
      "\u001b[0;32m/Users/raghav/anaconda/lib/python2.7/site-packages/scipy/optimize/_minimize.pyc\u001b[0m in \u001b[0;36mminimize\u001b[0;34m(fun, x0, args, method, jac, hess, hessp, bounds, constraints, tol, callback, options)\u001b[0m\n\u001b[1;32m    448\u001b[0m     \u001b[0;32melif\u001b[0m \u001b[0mmeth\u001b[0m \u001b[0;34m==\u001b[0m \u001b[0;34m'l-bfgs-b'\u001b[0m\u001b[0;34m:\u001b[0m\u001b[0;34m\u001b[0m\u001b[0m\n\u001b[1;32m    449\u001b[0m         return _minimize_lbfgsb(fun, x0, args, jac, bounds,\n\u001b[0;32m--> 450\u001b[0;31m                                 callback=callback, **options)\n\u001b[0m\u001b[1;32m    451\u001b[0m     \u001b[0;32melif\u001b[0m \u001b[0mmeth\u001b[0m \u001b[0;34m==\u001b[0m \u001b[0;34m'tnc'\u001b[0m\u001b[0;34m:\u001b[0m\u001b[0;34m\u001b[0m\u001b[0m\n\u001b[1;32m    452\u001b[0m         return _minimize_tnc(fun, x0, args, jac, bounds, callback=callback,\n",
      "\u001b[0;32m/Users/raghav/anaconda/lib/python2.7/site-packages/scipy/optimize/lbfgsb.pyc\u001b[0m in \u001b[0;36m_minimize_lbfgsb\u001b[0;34m(fun, x0, args, jac, bounds, disp, maxcor, ftol, gtol, eps, maxfun, maxiter, iprint, callback, maxls, **unknown_options)\u001b[0m\n\u001b[1;32m    326\u001b[0m             \u001b[0;31m# until the completion of the current minimization iteration.\u001b[0m\u001b[0;34m\u001b[0m\u001b[0;34m\u001b[0m\u001b[0m\n\u001b[1;32m    327\u001b[0m             \u001b[0;31m# Overwrite f and g:\u001b[0m\u001b[0;34m\u001b[0m\u001b[0;34m\u001b[0m\u001b[0m\n\u001b[0;32m--> 328\u001b[0;31m             \u001b[0mf\u001b[0m\u001b[0;34m,\u001b[0m \u001b[0mg\u001b[0m \u001b[0;34m=\u001b[0m \u001b[0mfunc_and_grad\u001b[0m\u001b[0;34m(\u001b[0m\u001b[0mx\u001b[0m\u001b[0;34m)\u001b[0m\u001b[0;34m\u001b[0m\u001b[0m\n\u001b[0m\u001b[1;32m    329\u001b[0m         \u001b[0;32melif\u001b[0m \u001b[0mtask_str\u001b[0m\u001b[0;34m.\u001b[0m\u001b[0mstartswith\u001b[0m\u001b[0;34m(\u001b[0m\u001b[0;34mb'NEW_X'\u001b[0m\u001b[0;34m)\u001b[0m\u001b[0;34m:\u001b[0m\u001b[0;34m\u001b[0m\u001b[0m\n\u001b[1;32m    330\u001b[0m             \u001b[0;31m# new iteration\u001b[0m\u001b[0;34m\u001b[0m\u001b[0;34m\u001b[0m\u001b[0m\n",
      "\u001b[0;32m/Users/raghav/anaconda/lib/python2.7/site-packages/scipy/optimize/lbfgsb.pyc\u001b[0m in \u001b[0;36mfunc_and_grad\u001b[0;34m(x)\u001b[0m\n\u001b[1;32m    277\u001b[0m         \u001b[0;32mdef\u001b[0m \u001b[0mfunc_and_grad\u001b[0m\u001b[0;34m(\u001b[0m\u001b[0mx\u001b[0m\u001b[0;34m)\u001b[0m\u001b[0;34m:\u001b[0m\u001b[0;34m\u001b[0m\u001b[0m\n\u001b[1;32m    278\u001b[0m             \u001b[0mf\u001b[0m \u001b[0;34m=\u001b[0m \u001b[0mfun\u001b[0m\u001b[0;34m(\u001b[0m\u001b[0mx\u001b[0m\u001b[0;34m,\u001b[0m \u001b[0;34m*\u001b[0m\u001b[0margs\u001b[0m\u001b[0;34m)\u001b[0m\u001b[0;34m\u001b[0m\u001b[0m\n\u001b[0;32m--> 279\u001b[0;31m             \u001b[0mg\u001b[0m \u001b[0;34m=\u001b[0m \u001b[0mjac\u001b[0m\u001b[0;34m(\u001b[0m\u001b[0mx\u001b[0m\u001b[0;34m,\u001b[0m \u001b[0;34m*\u001b[0m\u001b[0margs\u001b[0m\u001b[0;34m)\u001b[0m\u001b[0;34m\u001b[0m\u001b[0m\n\u001b[0m\u001b[1;32m    280\u001b[0m             \u001b[0;32mreturn\u001b[0m \u001b[0mf\u001b[0m\u001b[0;34m,\u001b[0m \u001b[0mg\u001b[0m\u001b[0;34m\u001b[0m\u001b[0m\n\u001b[1;32m    281\u001b[0m \u001b[0;34m\u001b[0m\u001b[0m\n",
      "\u001b[0;32m<ipython-input-52-7a1708ee0462>\u001b[0m in \u001b[0;36mocsvm_grad\u001b[0;34m(theta, X, nu, D)\u001b[0m\n\u001b[1;32m     36\u001b[0m     term2 = np.vstack([ 1/nu * np.mean(deriv[:,np.newaxis] * (-X), axis = 0),\n\u001b[1;32m     37\u001b[0m \u001b[0;34m\u001b[0m\u001b[0m\n\u001b[0;32m---> 38\u001b[0;31m                         1/nu * np.mean(deriv) ])\n\u001b[0m\u001b[1;32m     39\u001b[0m     \u001b[0mterm3\u001b[0m \u001b[0;34m=\u001b[0m \u001b[0mnp\u001b[0m\u001b[0;34m.\u001b[0m\u001b[0mappend\u001b[0m\u001b[0;34m(\u001b[0m\u001b[0;36m0\u001b[0m\u001b[0;34m*\u001b[0m\u001b[0mw\u001b[0m\u001b[0;34m,\u001b[0m \u001b[0;34m-\u001b[0m\u001b[0mr\u001b[0m\u001b[0;34m)\u001b[0m\u001b[0;34m\u001b[0m\u001b[0m\n\u001b[1;32m     40\u001b[0m \u001b[0;34m\u001b[0m\u001b[0m\n",
      "\u001b[0;32m/Users/raghav/anaconda/lib/python2.7/site-packages/numpy/core/shape_base.pyc\u001b[0m in \u001b[0;36mvstack\u001b[0;34m(tup)\u001b[0m\n\u001b[1;32m    228\u001b[0m \u001b[0;34m\u001b[0m\u001b[0m\n\u001b[1;32m    229\u001b[0m     \"\"\"\n\u001b[0;32m--> 230\u001b[0;31m     \u001b[0;32mreturn\u001b[0m \u001b[0m_nx\u001b[0m\u001b[0;34m.\u001b[0m\u001b[0mconcatenate\u001b[0m\u001b[0;34m(\u001b[0m\u001b[0;34m[\u001b[0m\u001b[0matleast_2d\u001b[0m\u001b[0;34m(\u001b[0m\u001b[0m_m\u001b[0m\u001b[0;34m)\u001b[0m \u001b[0;32mfor\u001b[0m \u001b[0m_m\u001b[0m \u001b[0;32min\u001b[0m \u001b[0mtup\u001b[0m\u001b[0;34m]\u001b[0m\u001b[0;34m,\u001b[0m \u001b[0;36m0\u001b[0m\u001b[0;34m)\u001b[0m\u001b[0;34m\u001b[0m\u001b[0m\n\u001b[0m\u001b[1;32m    231\u001b[0m \u001b[0;34m\u001b[0m\u001b[0m\n\u001b[1;32m    232\u001b[0m \u001b[0;32mdef\u001b[0m \u001b[0mhstack\u001b[0m\u001b[0;34m(\u001b[0m\u001b[0mtup\u001b[0m\u001b[0;34m)\u001b[0m\u001b[0;34m:\u001b[0m\u001b[0;34m\u001b[0m\u001b[0m\n",
      "\u001b[0;31mValueError\u001b[0m: all the input array dimensions except for the concatenation axis must match exactly"
=======
      "Gradient error: 5.62961220836e-06\n"
>>>>>>> 6fd21dd8bf47e65792f71621eae0230da8986d09
     ]
    }
   ],
   "source": [
    "from scipy.optimize import minimize\n",
    "\n",
    "X  = data_train\n",
    "D  = X.shape[1]\n",
    "nu = 0.04\n",
    "\n",
    "np.random.seed(42)\n",
    "theta0 = np.random.normal(0, 1, D + 1)\n",
    "\n",
    "from scipy.optimize import check_grad\n",
    "print('Gradient error: %s' % check_grad(ocsvm_obj, ocsvm_grad, theta0, X, nu, D))\n",
    "\n",
    "res = minimize(ocsvm_obj, theta0, method = 'L-BFGS-B', jac = ocsvm_grad, args = (X, nu, D),\n",
    "               options = {'gtol': 1e-8, 'disp': True, 'maxiter' : 50000, 'maxfun' : 10000})"
   ]
  },
  {
   "cell_type": "code",
   "execution_count": 6,
   "metadata": {
    "collapsed": false,
    "deletable": true,
    "editable": true
   },
   "outputs": [
    {
     "data": {
      "image/png": "iVBORw0KGgoAAAANSUhEUgAAAXQAAAEICAYAAABPgw/pAAAABHNCSVQICAgIfAhkiAAAAAlwSFlz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\ncEI3M8sJJ3Qzs5xwQjczywkndDOznPhfwX/8/TOVPwAAAAAASUVORK5CYII=\n",
      "text/plain": [
       "<matplotlib.figure.Figure at 0x1157ca850>"
      ]
     },
     "metadata": {},
     "output_type": "display_data"
    }
   ],
   "source": [
    "plt.hist(svmScore(data[label == +1, :], res.x[0:-1]) - res.x[-1], bins = 25, label = 'Normal');\n",
    "plt.hist(svmScore(data[label == -1, :], res.x[0:-1]) - res.x[-1], bins = 25, label = 'Anomaly');\n",
    "plt.legend(loc = 'upper right');\n",
    "plt.title('OC-SVM Normalised Decision Score');"
   ]
  },
  {
   "cell_type": "markdown",
   "metadata": {},
   "source": [
    "## OC-SVM sklearn"
   ]
  },
  {
   "cell_type": "markdown",
   "metadata": {},
   "source": [
    "Comparison to sklearn implementation of OC-SVM."
   ]
  },
  {
   "cell_type": "code",
   "execution_count": 7,
   "metadata": {
    "collapsed": true
   },
   "outputs": [],
   "source": [
    "from sklearn import svm\n",
    "\n",
    "nu = 0.04\n",
    "ocSVM = svm.OneClassSVM(nu = nu, kernel = 'linear')\n",
    "ocSVM.fit(data_train) \n",
    "\n",
    "decisionScore = ocSVM.decision_function(data)"
   ]
  },
  {
   "cell_type": "code",
   "execution_count": 8,
   "metadata": {
    "collapsed": false
   },
   "outputs": [
    {
     "data": {
      "image/png": "iVBORw0KGgoAAAANSUhEUgAAAXkAAAEICAYAAAC6fYRZAAAABHNCSVQICAgIfAhkiAAAAAlwSFlz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\nWY45yZuZ5ZiTvJlZjjnJm5nl2P8Bz5OsoElxhgkAAAAASUVORK5CYII=\n",
      "text/plain": [
       "<matplotlib.figure.Figure at 0x11c2eb250>"
      ]
     },
     "metadata": {},
     "output_type": "display_data"
    }
   ],
   "source": [
    "plt.hist(decisionScore[label == +1], bins = 25, label = 'Normal');\n",
    "plt.hist(decisionScore[label == -1], bins = 25, label = 'Anomaly');\n",
    "plt.legend(loc = 'upper right');\n",
    "plt.title('OC-SVM Normalised Decision Score');"
   ]
  },
  {
   "cell_type": "markdown",
   "metadata": {
    "deletable": true,
    "editable": true
   },
   "source": [
    "## OC-NN explicit"
   ]
  },
  {
   "cell_type": "markdown",
   "metadata": {
    "deletable": true,
    "editable": true
   },
   "source": [
    "Define the OC-NN objective function as per the notes. It accepts the activation g(.) as an argument as well."
   ]
  },
  {
   "cell_type": "code",
   "execution_count": 9,
   "metadata": {
    "collapsed": true,
    "deletable": true,
    "editable": true
   },
   "outputs": [],
   "source": [
    "def nnScore(X, w, V, g):\n",
    "    return g(X.dot(V)).dot(w)\n",
    "\n",
    "def ocnn_obj(theta, X, nu, D, K, g, dG):\n",
    "    \n",
    "    w = theta[:K]\n",
    "    V = theta[K:K+K*D].reshape((D, K))\n",
    "    r = theta[K+K*D:]\n",
    "    \n",
    "    term1 = 0.5  * np.sum(w**2)\n",
    "    term2 = 0.5  * np.sum(V**2)\n",
    "    term3 = 1/nu * np.mean(relu(r - nnScore(X, w, V, g)))\n",
    "    term4 = -r\n",
    "    \n",
    "    return term1 + term2 + term3 + term4\n",
    "\n",
    "def ocnn_grad(theta, X, nu, D, K, g, dG):\n",
    "    \n",
    "    N = X.shape[0]\n",
    "    w = theta[:K]\n",
    "    V = theta[K:K+K*D].reshape((D, K))\n",
    "    r = theta[K+K*D:]\n",
    "    \n",
    "    deriv = dRelu(r - nnScore(X, w, V, g))    \n",
    "\n",
    "    term1 = np.concatenate(( w,\n",
    "                             np.zeros((V.size,)),\n",
    "                             np.zeros((1,)) ))\n",
    "\n",
    "    term2 = np.concatenate(( np.zeros((w.size,)),\n",
    "                             V.flatten(),\n",
    "                             np.zeros((1,)) ))\n",
    "\n",
    "    term3 = np.concatenate(( 1/nu * np.mean(deriv[:,np.newaxis] * (-g(X.dot(V))), axis = 0),\n",
    "                             1/nu * np.mean((deriv[:,np.newaxis] * (dG(X.dot(V)) * -w)).reshape((N, 1, K)) * X.reshape((N, D, 1)), axis = 0).flatten(),\n",
    "                             1/nu * np.array([ np.mean(deriv) ]) ))\n",
    "    \n",
    "    term4 = np.concatenate(( np.zeros((w.size,)),\n",
    "                             np.zeros((V.size,)),\n",
    "                             -1 * np.ones((1,)) ))\n",
    "    \n",
    "    return term1 + term2 + term3 + term4"
   ]
  },
  {
   "cell_type": "markdown",
   "metadata": {},
   "source": [
    "### Linear activation"
   ]
  },
  {
   "cell_type": "markdown",
   "metadata": {
    "deletable": true,
    "editable": true
   },
   "source": [
    "Minimise objective explicitly for some small number of hidden units."
   ]
  },
  {
   "cell_type": "code",
   "execution_count": 10,
   "metadata": {
    "collapsed": false,
    "deletable": true,
    "editable": true
   },
   "outputs": [
    {
     "name": "stdout",
     "output_type": "stream",
     "text": [
      "Gradient error: 0.000230437837841\n"
     ]
    }
   ],
   "source": [
    "from scipy.optimize import minimize\n",
    "\n",
    "X  = data_train\n",
    "D  = X.shape[1]\n",
    "K  = 4\n",
    "nu = 0.04\n",
    "\n",
    "g  = lambda x : x\n",
    "dG = lambda x : np.ones(x.shape)\n",
    "\n",
    "np.random.seed(42)\n",
    "theta0 = np.random.normal(0, 1, K + K*D + 1)\n",
    "\n",
    "from scipy.optimize import check_grad\n",
    "print('Gradient error: %s' % check_grad(ocnn_obj, ocnn_grad, theta0, X, nu, D, K, g, dG))\n",
    "\n",
    "res = minimize(ocnn_obj, theta0, method = 'L-BFGS-B', jac = ocnn_grad, args = (X, nu, D, K, g, dG),\n",
    "               options = {'gtol': 1e-8, 'disp': True, 'maxiter' : 50000, 'maxfun' : 10000})"
   ]
  },
  {
   "cell_type": "code",
   "execution_count": 11,
   "metadata": {
    "collapsed": false,
    "deletable": true,
    "editable": true
   },
   "outputs": [],
   "source": [
    "thetaStar = res.x\n",
    "\n",
    "wStar = thetaStar[:K]\n",
    "VStar = thetaStar[K:K+K*D].reshape((D, K))\n",
    "rStar = thetaStar[K+K*D:]"
   ]
  },
  {
   "cell_type": "code",
   "execution_count": 12,
   "metadata": {
    "collapsed": false,
    "deletable": true,
    "editable": true
   },
   "outputs": [],
   "source": [
    "# print('rStar vs percentile:')\n",
    "# print((rStar[0], np.percentile(nnScore(data_train, wStar, VStar, g), q = 100 * nu)))"
   ]
  },
  {
   "cell_type": "code",
   "execution_count": 13,
   "metadata": {
    "collapsed": false,
    "deletable": true,
    "editable": true
   },
   "outputs": [
    {
     "data": {
      "image/png": "iVBORw0KGgoAAAANSUhEUgAAAXYAAAEVCAYAAAD0Ps6RAAAABHNCSVQICAgIfAhkiAAAAAlwSFlz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\n",
      "text/plain": [
       "<matplotlib.figure.Figure at 0x11c3519d0>"
      ]
     },
     "metadata": {},
     "output_type": "display_data"
    }
   ],
   "source": [
    "plt.hist(nnScore(data[label == +1], wStar, VStar, g) - rStar, bins = 25, label = 'Normal');\n",
    "plt.hist(nnScore(data[label == -1], wStar, VStar, g) - rStar, bins = 25, label = 'Anomaly');\n",
    "plt.legend(loc = 'upper right');\n",
    "plt.title('OC-NN [Linear] Normalised Decision Score');"
   ]
  },
  {
   "cell_type": "markdown",
   "metadata": {
    "collapsed": true,
    "deletable": true,
    "editable": true
   },
   "source": [
    "### Sigmoid activation"
   ]
  },
  {
   "cell_type": "code",
   "execution_count": 14,
   "metadata": {
    "collapsed": false,
    "deletable": true,
    "editable": true
   },
   "outputs": [
    {
     "name": "stdout",
     "output_type": "stream",
     "text": [
      "Gradient error: 8.33482384247e-05\n"
     ]
    }
   ],
   "source": [
    "from scipy.optimize import minimize\n",
    "\n",
    "X  = data_train\n",
    "D  = X.shape[1]\n",
    "K  = 4\n",
    "nu = 0.04\n",
    "\n",
    "g   = lambda x : 1/(1 + np.exp(-x))\n",
    "dG  = lambda x : 1/(1 + np.exp(-x)) * 1/(1 + np.exp(+x))\n",
    "\n",
    "np.random.seed(42)\n",
    "theta0 = np.random.normal(0, 1, K + K*D + 1)\n",
    "\n",
    "from scipy.optimize import check_grad\n",
    "print('Gradient error: %s' % check_grad(ocnn_obj, ocnn_grad, theta0, X, nu, D, K, g, dG))\n",
    "\n",
    "res = minimize(ocnn_obj, theta0, method = 'L-BFGS-B', jac = ocnn_grad, args = (X, nu, D, K, g, dG),\n",
    "               options = {'gtol': 1e-8, 'disp': True, 'maxiter' : 50000, 'maxfun' : 10000})"
   ]
  },
  {
   "cell_type": "code",
   "execution_count": 15,
   "metadata": {
    "collapsed": false,
    "deletable": true,
    "editable": true
   },
   "outputs": [],
   "source": [
    "thetaStar = res.x\n",
    "\n",
    "wStar = thetaStar[:K]\n",
    "VStar = thetaStar[K:K+K*D].reshape((D, K))\n",
    "rStar = thetaStar[K+K*D:]"
   ]
  },
  {
   "cell_type": "code",
   "execution_count": 16,
   "metadata": {
    "collapsed": false,
    "deletable": true,
    "editable": true
   },
   "outputs": [],
   "source": [
    "# print('rStar vs percentile:')\n",
    "# print((rStar[0], np.percentile(nnScore(data_train, wStar, VStar, g), q = 100 * nu)))"
   ]
  },
  {
   "cell_type": "code",
   "execution_count": 17,
   "metadata": {
    "collapsed": false,
    "deletable": true,
    "editable": true
   },
   "outputs": [
    {
     "data": {
      "image/png": "iVBORw0KGgoAAAANSUhEUgAAAXoAAAEICAYAAABRSj9aAAAABHNCSVQICAgIfAhkiAAAAAlwSFlz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\nNzPLuf8PBFB18Y4urZQAAAAASUVORK5CYII=\n",
      "text/plain": [
       "<matplotlib.figure.Figure at 0x11c55ad50>"
      ]
     },
     "metadata": {},
     "output_type": "display_data"
    }
   ],
   "source": [
    "plt.hist(nnScore(data[label == +1], wStar, VStar, g) - rStar, bins = 25, label = 'Normal');\n",
    "plt.hist(nnScore(data[label == -1], wStar, VStar, g) - rStar, bins = 25, label = 'Anomaly');\n",
    "plt.legend(loc = 'upper right');\n",
    "plt.title('OC-NN [Sigmoid] Normalised Decision Score');"
   ]
  },
  {
   "cell_type": "code",
   "execution_count": null,
   "metadata": {
    "collapsed": true
   },
   "outputs": [],
   "source": []
  }
 ],
 "metadata": {
  "kernelspec": {
   "display_name": "Python 2",
   "language": "python",
   "name": "python2"
  },
  "language_info": {
   "codemirror_mode": {
    "name": "ipython",
    "version": 2
   },
   "file_extension": ".py",
   "mimetype": "text/x-python",
   "name": "python",
   "nbconvert_exporter": "python",
   "pygments_lexer": "ipython2",
   "version": "2.7.13"
  }
 },
 "nbformat": 4,
 "nbformat_minor": 0
}
